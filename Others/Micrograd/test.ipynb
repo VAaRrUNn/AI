{
 "cells": [
  {
   "cell_type": "code",
   "execution_count": 60,
   "metadata": {},
   "outputs": [
    {
     "name": "stdout",
     "output_type": "stream",
     "text": [
      "2003\n"
     ]
    }
   ],
   "source": [
    "def get_sum(x):\n",
    "    ans = []\n",
    "\n",
    "    while x != 0:\n",
    "        ans.append(x%10)\n",
    "        x = x//10\n",
    "\n",
    "    ans =  sorted(ans, key=lambda x: x)\n",
    "\n",
    "    temp = [str(i) for i in ans]\n",
    "    temp =  ''.join(temp)\n",
    "    if temp ==0 :\n",
    "        return temp\n",
    "    \n",
    "    index = 0\n",
    "    if ans[0] == 0:\n",
    "        for i, a in enumerate(ans):\n",
    "            # print(\"in loop\")\n",
    "            # print(i, a)\n",
    "            if a!=0:\n",
    "                index = i\n",
    "                break\n",
    "    \n",
    "    # print(f\"hi {ans}\")\n",
    "    # print(f\"index {index}\")\n",
    "    # print(ans[0])\n",
    "    # print(ans[index])\n",
    "    temp = ans[index]\n",
    "    ans[index] = ans[0]\n",
    "    ans[0] = temp\n",
    "\n",
    "    ans = [str(i) for i in ans]\n",
    "    return ''.join(ans)\n",
    "\n",
    "\n",
    "print(get_sum(3200))\n",
    "# a = [431, 345, 20]\n",
    "# a[0]%10, a[0]//10"
   ]
  }
 ],
 "metadata": {
  "kernelspec": {
   "display_name": "Python 3",
   "language": "python",
   "name": "python3"
  },
  "language_info": {
   "codemirror_mode": {
    "name": "ipython",
    "version": 3
   },
   "file_extension": ".py",
   "mimetype": "text/x-python",
   "name": "python",
   "nbconvert_exporter": "python",
   "pygments_lexer": "ipython3",
   "version": "3.11.3"
  },
  "orig_nbformat": 4
 },
 "nbformat": 4,
 "nbformat_minor": 2
}
