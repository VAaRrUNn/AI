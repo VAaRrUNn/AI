{
 "cells": [
  {
   "cell_type": "code",
   "execution_count": 1,
   "metadata": {},
   "outputs": [
    {
     "data": {
      "text/plain": [
       "'MLP: ([2, 2, 1])'"
      ]
     },
     "execution_count": 1,
     "metadata": {},
     "output_type": "execute_result"
    }
   ],
   "source": [
    "from minidiff.nn import MLP\n",
    "model = MLP([2, 2, 1])\n",
    "model.__repr__()"
   ]
  },
  {
   "cell_type": "code",
   "execution_count": null,
   "metadata": {},
   "outputs": [],
   "source": []
  },
  {
   "cell_type": "code",
   "execution_count": 188,
   "metadata": {},
   "outputs": [
    {
     "data": {
      "text/plain": [
       "tensor(0.8178)"
      ]
     },
     "execution_count": 188,
     "metadata": {},
     "output_type": "execute_result"
    }
   ],
   "source": [
    "import torch\n",
    "# input logits and target.\n",
    "loss = torch.nn.CrossEntropyLoss()\n",
    "# pred = torch.tensor([0.6, 0.2]).view(1, 2).type(torch.float32)\n",
    "pred = torch.tensor([[0.6, 0.4], [0.8, 0.2]]).view(2, 2).type(torch.float32)\n",
    "true = torch.tensor([0, 1]).view(2, ).type(torch.long)\n",
    "\n",
    "loss(pred, true)"
   ]
  },
  {
   "cell_type": "code",
   "execution_count": 189,
   "metadata": {},
   "outputs": [
    {
     "name": "stdout",
     "output_type": "stream",
     "text": [
      "tensor([0.6457, 0.5498])\n"
     ]
    },
    {
     "data": {
      "text/plain": [
       "tensor(0.8178)"
      ]
     },
     "execution_count": 189,
     "metadata": {},
     "output_type": "execute_result"
    }
   ],
   "source": [
    "# between the target and the input probabilitiesloss\n",
    "loss = torch.nn.BCELoss()\n",
    "pred = torch.tensor([0.6, 0.2]).type(torch.float32)\n",
    "pred = torch.nn.functional.sigmoid(pred)\n",
    "print(pred)\n",
    "true = torch.tensor([0, 1]).type(torch.float32)\n",
    "loss(pred, true)"
   ]
  },
  {
   "cell_type": "code",
   "execution_count": 190,
   "metadata": {},
   "outputs": [
    {
     "data": {
      "text/plain": [
       "{1, 3}"
      ]
     },
     "execution_count": 190,
     "metadata": {},
     "output_type": "execute_result"
    }
   ],
   "source": [
    "a = set()\n",
    "a.add(1)\n",
    "a.add(3)\n",
    "a"
   ]
  },
  {
   "cell_type": "code",
   "execution_count": 191,
   "metadata": {},
   "outputs": [
    {
     "data": {
      "text/plain": [
       "Data: 90"
      ]
     },
     "execution_count": 191,
     "metadata": {},
     "output_type": "execute_result"
    }
   ],
   "source": [
    "from minidiff.autodiff import Value\n",
    "\n",
    "\n",
    "def pgrad(x):\n",
    "    for i in x:\n",
    "        print(i.grad)\n",
    "\n",
    "def loss(x):\n",
    "    return x * 3\n",
    "\n",
    "a = Value(2)\n",
    "b = Value(3)\n",
    "c = a * b\n",
    "c = c * 5\n",
    "c = loss(c)\n",
    "c\n",
    "# c.backward()\n",
    "# pgrad([a, b, c])\n",
    "\n",
    "\n"
   ]
  },
  {
   "cell_type": "code",
   "execution_count": 192,
   "metadata": {},
   "outputs": [
    {
     "data": {
      "text/plain": [
       "90"
      ]
     },
     "execution_count": 192,
     "metadata": {},
     "output_type": "execute_result"
    }
   ],
   "source": [
    "c.data"
   ]
  },
  {
   "cell_type": "code",
   "execution_count": 1,
   "metadata": {},
   "outputs": [],
   "source": [
    "from minidiff.nn import MLP\n",
    "import pandas as pd\n",
    "import numpy as np\n",
    "import matplotlib.pyplot as plt\n",
    "import seaborn as sns\n",
    "from sklearn.datasets import make_circles\n",
    "import warnings\n",
    "sns.set_theme(style=\"darkgrid\")\n",
    "\n",
    "warnings.filterwarnings(\"ignore\")\n",
    "\n"
   ]
  },
  {
   "cell_type": "markdown",
   "metadata": {},
   "source": [
    "## Dataset"
   ]
  },
  {
   "cell_type": "code",
   "execution_count": 2,
   "metadata": {},
   "outputs": [
    {
     "data": {
      "text/plain": [
       "[Data: -0.6190741671114071,\n",
       " Data: -0.897012713001394,\n",
       " Data: -0.3860022934139105,\n",
       " Data: -0.8724725425473013]"
      ]
     },
     "execution_count": 2,
     "metadata": {},
     "output_type": "execute_result"
    }
   ],
   "source": [
    "n = MLP([3, 4, 4, 1])\n",
    "xs = [\n",
    "    [2.0, 3.0, -1.0],\n",
    "    [3.0, -1.0, 0.5],\n",
    "    [0.5, 1.0, 1.0],\n",
    "    [1.0, 1.0, -2.0]\n",
    "]\n",
    "\n",
    "ys = [1.0, -1.0, -1.0, 1.0]\n",
    "ypred = [n(x) for x in xs]\n",
    "ypred"
   ]
  },
  {
   "cell_type": "code",
   "execution_count": 3,
   "metadata": {},
   "outputs": [],
   "source": [
    "loss = sum((yout - ygt)**2 for ygt, yout in zip(ys, ypred))"
   ]
  },
  {
   "cell_type": "code",
   "execution_count": 4,
   "metadata": {},
   "outputs": [
    {
     "data": {
      "text/plain": [
       "Data: 6.515154146177363"
      ]
     },
     "execution_count": 4,
     "metadata": {},
     "output_type": "execute_result"
    }
   ],
   "source": [
    "loss"
   ]
  },
  {
   "cell_type": "code",
   "execution_count": 5,
   "metadata": {},
   "outputs": [],
   "source": [
    "loss.backward()"
   ]
  },
  {
   "cell_type": "code",
   "execution_count": 14,
   "metadata": {},
   "outputs": [
    {
     "data": {
      "text/plain": [
       "(0.0, 0.0)"
      ]
     },
     "execution_count": 14,
     "metadata": {},
     "output_type": "execute_result"
    }
   ],
   "source": [
    "n.mlp[0].layer[0].w[0].grad, n.mlp[1].layer[0].w[0].grad"
   ]
  },
  {
   "cell_type": "code",
   "execution_count": 201,
   "metadata": {},
   "outputs": [
    {
     "data": {
      "image/png": "[encoded data removed]",
      "text/plain": [
       "<Figure size 500x500 with 1 Axes>"
      ]
     },
     "metadata": {},
     "output_type": "display_data"
    }
   ],
   "source": [
    "from sklearn.datasets import make_moons\n",
    "x, y = make_moons(n_samples=100, noise=0.1)\n",
    "\n",
    "def plot(x, y):\n",
    "    sns.scatterplot(x=x[:, 0],\n",
    "                    y=x[:, 1],\n",
    "                    hue=y,\n",
    "                    s=20,\n",
    "                    cmap=\"jet\")\n",
    "    \n",
    "y = y*2 - 1 # make y be -1 or 1\n",
    "# visualize in 2D\n",
    "plt.figure(figsize=(5,5))\n",
    "# plt.scatter(X[:,0], X[:,1], c=y, s=20, cmap='jet')\n",
    "plot(x, y)"
   ]
  },
  {
   "cell_type": "code",
   "execution_count": null,
   "metadata": {},
   "outputs": [],
   "source": []
  },
  {
   "cell_type": "code",
   "execution_count": 217,
   "metadata": {},
   "outputs": [
    {
     "name": "stdout",
     "output_type": "stream",
     "text": [
      "[Data: -0.3740225752793142]\n"
     ]
    }
   ],
   "source": [
    "model = MLP(layers=[2, 3, 3, 1])\n",
    "logits = model(x[0])\n",
    "print(logits)\n",
    "model.update_params()\n"
   ]
  },
  {
   "cell_type": "code",
   "execution_count": 203,
   "metadata": {},
   "outputs": [
    {
     "ename": "OverflowError",
     "evalue": "math range error",
     "output_type": "error",
     "traceback": [
      "\u001b[1;31m---------------------------------------------------------------------------\u001b[0m",
      "\u001b[1;31mOverflowError\u001b[0m                             Traceback (most recent call last)",
      "\u001b[1;32md:\\material\\Machine_Deep\\github_repos\\AI_\\AI\\Others\\Micrograd\\demo.ipynb Cell 14\u001b[0m line \u001b[0;36m2\n\u001b[0;32m     <a href='vscode-notebook-cell:/d%3A/material/Machine_Deep/github_repos/AI_/AI/Others/Micrograd/demo.ipynb#X16sZmlsZQ%3D%3D?line=23'>24</a>\u001b[0m     \u001b[39mreturn\u001b[39;00m total_loss\n\u001b[0;32m     <a href='vscode-notebook-cell:/d%3A/material/Machine_Deep/github_repos/AI_/AI/Others/Micrograd/demo.ipynb#X16sZmlsZQ%3D%3D?line=25'>26</a>\u001b[0m model \u001b[39m=\u001b[39m MLP(layers\u001b[39m=\u001b[39m[\u001b[39m2\u001b[39m, \u001b[39m4\u001b[39m, \u001b[39m4\u001b[39m, \u001b[39m2\u001b[39m, \u001b[39m1\u001b[39m])\n\u001b[1;32m---> <a href='vscode-notebook-cell:/d%3A/material/Machine_Deep/github_repos/AI_/AI/Others/Micrograd/demo.ipynb#X16sZmlsZQ%3D%3D?line=26'>27</a>\u001b[0m loss \u001b[39m=\u001b[39m train(model\u001b[39m=\u001b[39;49mmodel,\n\u001b[0;32m     <a href='vscode-notebook-cell:/d%3A/material/Machine_Deep/github_repos/AI_/AI/Others/Micrograd/demo.ipynb#X16sZmlsZQ%3D%3D?line=27'>28</a>\u001b[0m       x\u001b[39m=\u001b[39;49mx,\n\u001b[0;32m     <a href='vscode-notebook-cell:/d%3A/material/Machine_Deep/github_repos/AI_/AI/Others/Micrograd/demo.ipynb#X16sZmlsZQ%3D%3D?line=28'>29</a>\u001b[0m       y\u001b[39m=\u001b[39;49my,\n\u001b[0;32m     <a href='vscode-notebook-cell:/d%3A/material/Machine_Deep/github_repos/AI_/AI/Others/Micrograd/demo.ipynb#X16sZmlsZQ%3D%3D?line=29'>30</a>\u001b[0m       iterations\u001b[39m=\u001b[39;49m\u001b[39m500\u001b[39;49m,\n\u001b[0;32m     <a href='vscode-notebook-cell:/d%3A/material/Machine_Deep/github_repos/AI_/AI/Others/Micrograd/demo.ipynb#X16sZmlsZQ%3D%3D?line=30'>31</a>\u001b[0m       lr\u001b[39m=\u001b[39;49m\u001b[39m1e-2\u001b[39;49m)\n\u001b[0;32m     <a href='vscode-notebook-cell:/d%3A/material/Machine_Deep/github_repos/AI_/AI/Others/Micrograd/demo.ipynb#X16sZmlsZQ%3D%3D?line=32'>33</a>\u001b[0m plt\u001b[39m.\u001b[39mplot(\u001b[39mrange\u001b[39m(\u001b[39mlen\u001b[39m(loss)), loss, \u001b[39m'\u001b[39m\u001b[39m.\u001b[39m\u001b[39m'\u001b[39m);\n",
      "\u001b[1;32md:\\material\\Machine_Deep\\github_repos\\AI_\\AI\\Others\\Micrograd\\demo.ipynb Cell 14\u001b[0m line \u001b[0;36m6\n\u001b[0;32m      <a href='vscode-notebook-cell:/d%3A/material/Machine_Deep/github_repos/AI_/AI/Others/Micrograd/demo.ipynb#X16sZmlsZQ%3D%3D?line=2'>3</a>\u001b[0m x, y \u001b[39m=\u001b[39m x\u001b[39m.\u001b[39mtolist(), y\u001b[39m.\u001b[39mtolist()\n\u001b[0;32m      <a href='vscode-notebook-cell:/d%3A/material/Machine_Deep/github_repos/AI_/AI/Others/Micrograd/demo.ipynb#X16sZmlsZQ%3D%3D?line=3'>4</a>\u001b[0m \u001b[39mfor\u001b[39;00m i \u001b[39min\u001b[39;00m \u001b[39mrange\u001b[39m(iterations):\n\u001b[1;32m----> <a href='vscode-notebook-cell:/d%3A/material/Machine_Deep/github_repos/AI_/AI/Others/Micrograd/demo.ipynb#X16sZmlsZQ%3D%3D?line=5'>6</a>\u001b[0m     logits \u001b[39m=\u001b[39m \u001b[39mlist\u001b[39m(\u001b[39mmap\u001b[39m(model, x))\n\u001b[0;32m      <a href='vscode-notebook-cell:/d%3A/material/Machine_Deep/github_repos/AI_/AI/Others/Micrograd/demo.ipynb#X16sZmlsZQ%3D%3D?line=6'>7</a>\u001b[0m     model\u001b[39m.\u001b[39mzero_grad()\n\u001b[0;32m      <a href='vscode-notebook-cell:/d%3A/material/Machine_Deep/github_repos/AI_/AI/Others/Micrograd/demo.ipynb#X16sZmlsZQ%3D%3D?line=8'>9</a>\u001b[0m     \u001b[39m# using MSE loss\u001b[39;00m\n",
      "File \u001b[1;32md:\\material\\Machine_Deep\\github_repos\\AI_\\AI\\Others\\Micrograd\\minidiff\\nn.py:79\u001b[0m, in \u001b[0;36mMLP.__call__\u001b[1;34m(self, x)\u001b[0m\n\u001b[0;32m     77\u001b[0m out \u001b[39m=\u001b[39m x\n\u001b[0;32m     78\u001b[0m \u001b[39mfor\u001b[39;00m layer \u001b[39min\u001b[39;00m \u001b[39mself\u001b[39m\u001b[39m.\u001b[39mmlp:\n\u001b[1;32m---> 79\u001b[0m     out \u001b[39m=\u001b[39m layer(out)\n\u001b[0;32m     80\u001b[0m \u001b[39mreturn\u001b[39;00m out\n",
      "File \u001b[1;32md:\\material\\Machine_Deep\\github_repos\\AI_\\AI\\Others\\Micrograd\\minidiff\\nn.py:54\u001b[0m, in \u001b[0;36mLayer.__call__\u001b[1;34m(self, x)\u001b[0m\n\u001b[0;32m     53\u001b[0m \u001b[39mdef\u001b[39;00m \u001b[39m__call__\u001b[39m(\u001b[39mself\u001b[39m, x):\n\u001b[1;32m---> 54\u001b[0m     \u001b[39mreturn\u001b[39;00m [n(x) \u001b[39mfor\u001b[39;49;00m n \u001b[39min\u001b[39;49;00m \u001b[39mself\u001b[39;49m\u001b[39m.\u001b[39;49mlayer]\n",
      "File \u001b[1;32md:\\material\\Machine_Deep\\github_repos\\AI_\\AI\\Others\\Micrograd\\minidiff\\nn.py:54\u001b[0m, in \u001b[0;36m<listcomp>\u001b[1;34m(.0)\u001b[0m\n\u001b[0;32m     53\u001b[0m \u001b[39mdef\u001b[39;00m \u001b[39m__call__\u001b[39m(\u001b[39mself\u001b[39m, x):\n\u001b[1;32m---> 54\u001b[0m     \u001b[39mreturn\u001b[39;00m [n(x) \u001b[39mfor\u001b[39;00m n \u001b[39min\u001b[39;00m \u001b[39mself\u001b[39m\u001b[39m.\u001b[39mlayer]\n",
      "File \u001b[1;32md:\\material\\Machine_Deep\\github_repos\\AI_\\AI\\Others\\Micrograd\\minidiff\\nn.py:36\u001b[0m, in \u001b[0;36mNeuron.__call__\u001b[1;34m(self, x)\u001b[0m\n\u001b[0;32m     34\u001b[0m out \u001b[39m=\u001b[39m \u001b[39msum\u001b[39m((w \u001b[39m*\u001b[39m x \u001b[39mfor\u001b[39;00m w, x \u001b[39min\u001b[39;00m \u001b[39mzip\u001b[39m(\u001b[39mself\u001b[39m\u001b[39m.\u001b[39mw, x)), \u001b[39mself\u001b[39m\u001b[39m.\u001b[39mb)\n\u001b[0;32m     35\u001b[0m \u001b[39mif\u001b[39;00m \u001b[39mself\u001b[39m\u001b[39m.\u001b[39mactivation \u001b[39m==\u001b[39m \u001b[39m\"\u001b[39m\u001b[39mtanh\u001b[39m\u001b[39m\"\u001b[39m:\n\u001b[1;32m---> 36\u001b[0m     \u001b[39mreturn\u001b[39;00m out\u001b[39m.\u001b[39;49mtanh()\n\u001b[0;32m     37\u001b[0m \u001b[39mreturn\u001b[39;00m out\n",
      "File \u001b[1;32md:\\material\\Machine_Deep\\github_repos\\AI_\\AI\\Others\\Micrograd\\minidiff\\autodiff.py:61\u001b[0m, in \u001b[0;36mValue.tanh\u001b[1;34m(self)\u001b[0m\n\u001b[0;32m     59\u001b[0m \u001b[39mdef\u001b[39;00m \u001b[39mtanh\u001b[39m(\u001b[39mself\u001b[39m):\n\u001b[0;32m     60\u001b[0m     x \u001b[39m=\u001b[39m \u001b[39mself\u001b[39m\u001b[39m.\u001b[39mdata\n\u001b[1;32m---> 61\u001b[0m     t \u001b[39m=\u001b[39m (math\u001b[39m.\u001b[39mexp(\u001b[39m2\u001b[39m \u001b[39m*\u001b[39m x) \u001b[39m-\u001b[39m \u001b[39m1\u001b[39m) \u001b[39m/\u001b[39m (math\u001b[39m.\u001b[39mexp(\u001b[39m2\u001b[39m \u001b[39m*\u001b[39m x) \u001b[39m+\u001b[39m \u001b[39m1\u001b[39m)\n\u001b[0;32m     62\u001b[0m     out \u001b[39m=\u001b[39m Value(t, (\u001b[39mself\u001b[39m,), \u001b[39m\"\u001b[39m\u001b[39mtanh\u001b[39m\u001b[39m\"\u001b[39m)\n\u001b[0;32m     64\u001b[0m     \u001b[39mdef\u001b[39;00m \u001b[39m_backward\u001b[39m():\n",
      "\u001b[1;31mOverflowError\u001b[0m: math range error"
     ]
    }
   ],
   "source": [
    "    \n",
    "def train(model, x, y, lr=1e-2, iterations=10):\n",
    "    total_loss = []\n",
    "    x, y = x.tolist(), y.tolist()\n",
    "    for i in range(iterations):\n",
    "\n",
    "        logits = list(map(model, x))\n",
    "        model.zero_grad()\n",
    "\n",
    "        # using MSE loss\n",
    "        loss = [(pred[0] - true)**2 for pred, true in zip(logits, y)]\n",
    "\n",
    "        # loss -> [Value(...), ...] it is a list of Value objects. Which is the final loss\n",
    "\n",
    "        # backward\n",
    "        for l in loss:\n",
    "            l.backward()\n",
    "\n",
    "        loss = sum(loss)\n",
    "        total_loss.append(loss.data)\n",
    "\n",
    "\n",
    "        # update weights\n",
    "        model.update_params(lr=lr)\n",
    "    return total_loss\n",
    "\n",
    "model = MLP(layers=[2, 4, 4, 2, 1])\n",
    "loss = train(model=model,\n",
    "      x=x,\n",
    "      y=y,\n",
    "      iterations=500,\n",
    "      lr=1e-2)\n",
    "\n",
    "plt.plot(range(len(loss)), loss, '.');\n",
    "    \n"
   ]
  },
  {
   "cell_type": "code",
   "execution_count": 206,
   "metadata": {},
   "outputs": [
    {
     "ename": "OverflowError",
     "evalue": "math range error",
     "output_type": "error",
     "traceback": [
      "\u001b[1;31m---------------------------------------------------------------------------\u001b[0m",
      "\u001b[1;31mOverflowError\u001b[0m                             Traceback (most recent call last)",
      "\u001b[1;32md:\\material\\Machine_Deep\\github_repos\\AI_\\AI\\Others\\Micrograd\\demo.ipynb Cell 15\u001b[0m line \u001b[0;36m1\n\u001b[0;32m     <a href='vscode-notebook-cell:/d%3A/material/Machine_Deep/github_repos/AI_/AI/Others/Micrograd/demo.ipynb#X20sZmlsZQ%3D%3D?line=15'>16</a>\u001b[0m     plt\u001b[39m.\u001b[39mxlim(xx\u001b[39m.\u001b[39mmin(), xx\u001b[39m.\u001b[39mmax())\n\u001b[0;32m     <a href='vscode-notebook-cell:/d%3A/material/Machine_Deep/github_repos/AI_/AI/Others/Micrograd/demo.ipynb#X20sZmlsZQ%3D%3D?line=16'>17</a>\u001b[0m     plt\u001b[39m.\u001b[39mylim(yy\u001b[39m.\u001b[39mmin(), yy\u001b[39m.\u001b[39mmax())\n\u001b[1;32m---> <a href='vscode-notebook-cell:/d%3A/material/Machine_Deep/github_repos/AI_/AI/Others/Micrograd/demo.ipynb#X20sZmlsZQ%3D%3D?line=18'>19</a>\u001b[0m plot_decision_boundary(model\u001b[39m=\u001b[39;49mmodel,\n\u001b[0;32m     <a href='vscode-notebook-cell:/d%3A/material/Machine_Deep/github_repos/AI_/AI/Others/Micrograd/demo.ipynb#X20sZmlsZQ%3D%3D?line=19'>20</a>\u001b[0m                        x\u001b[39m=\u001b[39;49mx,\n\u001b[0;32m     <a href='vscode-notebook-cell:/d%3A/material/Machine_Deep/github_repos/AI_/AI/Others/Micrograd/demo.ipynb#X20sZmlsZQ%3D%3D?line=20'>21</a>\u001b[0m                        y\u001b[39m=\u001b[39;49my,\n\u001b[0;32m     <a href='vscode-notebook-cell:/d%3A/material/Machine_Deep/github_repos/AI_/AI/Others/Micrograd/demo.ipynb#X20sZmlsZQ%3D%3D?line=21'>22</a>\u001b[0m                        threshold\u001b[39m=\u001b[39;49m\u001b[39m0\u001b[39;49m)\n",
      "\u001b[1;32md:\\material\\Machine_Deep\\github_repos\\AI_\\AI\\Others\\Micrograd\\demo.ipynb Cell 15\u001b[0m line \u001b[0;36m1\n\u001b[0;32m      <a href='vscode-notebook-cell:/d%3A/material/Machine_Deep/github_repos/AI_/AI/Others/Micrograd/demo.ipynb#X20sZmlsZQ%3D%3D?line=7'>8</a>\u001b[0m Xmesh \u001b[39m=\u001b[39m np\u001b[39m.\u001b[39mc_[xx\u001b[39m.\u001b[39mravel(), yy\u001b[39m.\u001b[39mravel()]\n\u001b[0;32m      <a href='vscode-notebook-cell:/d%3A/material/Machine_Deep/github_repos/AI_/AI/Others/Micrograd/demo.ipynb#X20sZmlsZQ%3D%3D?line=8'>9</a>\u001b[0m inputs \u001b[39m=\u001b[39m \u001b[39mlist\u001b[39m(\u001b[39mmap\u001b[39m(Value, xrow) \u001b[39mfor\u001b[39;00m xrow \u001b[39min\u001b[39;00m Xmesh)\n\u001b[1;32m---> <a href='vscode-notebook-cell:/d%3A/material/Machine_Deep/github_repos/AI_/AI/Others/Micrograd/demo.ipynb#X20sZmlsZQ%3D%3D?line=9'>10</a>\u001b[0m scores \u001b[39m=\u001b[39m \u001b[39mlist\u001b[39;49m(\u001b[39mmap\u001b[39;49m(model, inputs))\n\u001b[0;32m     <a href='vscode-notebook-cell:/d%3A/material/Machine_Deep/github_repos/AI_/AI/Others/Micrograd/demo.ipynb#X20sZmlsZQ%3D%3D?line=10'>11</a>\u001b[0m Z \u001b[39m=\u001b[39m np\u001b[39m.\u001b[39marray([s[\u001b[39m0\u001b[39m]\u001b[39m.\u001b[39mdata \u001b[39m>\u001b[39m\u001b[39m=\u001b[39m threshold \u001b[39mfor\u001b[39;00m s \u001b[39min\u001b[39;00m scores])\n\u001b[0;32m     <a href='vscode-notebook-cell:/d%3A/material/Machine_Deep/github_repos/AI_/AI/Others/Micrograd/demo.ipynb#X20sZmlsZQ%3D%3D?line=11'>12</a>\u001b[0m Z \u001b[39m=\u001b[39m Z\u001b[39m.\u001b[39mreshape(xx\u001b[39m.\u001b[39mshape)\n",
      "File \u001b[1;32md:\\material\\Machine_Deep\\github_repos\\AI_\\AI\\Others\\Micrograd\\minidiff\\nn.py:79\u001b[0m, in \u001b[0;36mMLP.__call__\u001b[1;34m(self, x)\u001b[0m\n\u001b[0;32m     77\u001b[0m out \u001b[39m=\u001b[39m x\n\u001b[0;32m     78\u001b[0m \u001b[39mfor\u001b[39;00m layer \u001b[39min\u001b[39;00m \u001b[39mself\u001b[39m\u001b[39m.\u001b[39mmlp:\n\u001b[1;32m---> 79\u001b[0m     out \u001b[39m=\u001b[39m layer(out)\n\u001b[0;32m     80\u001b[0m \u001b[39mreturn\u001b[39;00m out\n",
      "File \u001b[1;32md:\\material\\Machine_Deep\\github_repos\\AI_\\AI\\Others\\Micrograd\\minidiff\\nn.py:54\u001b[0m, in \u001b[0;36mLayer.__call__\u001b[1;34m(self, x)\u001b[0m\n\u001b[0;32m     53\u001b[0m \u001b[39mdef\u001b[39;00m \u001b[39m__call__\u001b[39m(\u001b[39mself\u001b[39m, x):\n\u001b[1;32m---> 54\u001b[0m     \u001b[39mreturn\u001b[39;00m [n(x) \u001b[39mfor\u001b[39;49;00m n \u001b[39min\u001b[39;49;00m \u001b[39mself\u001b[39;49m\u001b[39m.\u001b[39;49mlayer]\n",
      "File \u001b[1;32md:\\material\\Machine_Deep\\github_repos\\AI_\\AI\\Others\\Micrograd\\minidiff\\nn.py:54\u001b[0m, in \u001b[0;36m<listcomp>\u001b[1;34m(.0)\u001b[0m\n\u001b[0;32m     53\u001b[0m \u001b[39mdef\u001b[39;00m \u001b[39m__call__\u001b[39m(\u001b[39mself\u001b[39m, x):\n\u001b[1;32m---> 54\u001b[0m     \u001b[39mreturn\u001b[39;00m [n(x) \u001b[39mfor\u001b[39;00m n \u001b[39min\u001b[39;00m \u001b[39mself\u001b[39m\u001b[39m.\u001b[39mlayer]\n",
      "File \u001b[1;32md:\\material\\Machine_Deep\\github_repos\\AI_\\AI\\Others\\Micrograd\\minidiff\\nn.py:36\u001b[0m, in \u001b[0;36mNeuron.__call__\u001b[1;34m(self, x)\u001b[0m\n\u001b[0;32m     34\u001b[0m out \u001b[39m=\u001b[39m \u001b[39msum\u001b[39m((w \u001b[39m*\u001b[39m x \u001b[39mfor\u001b[39;00m w, x \u001b[39min\u001b[39;00m \u001b[39mzip\u001b[39m(\u001b[39mself\u001b[39m\u001b[39m.\u001b[39mw, x)), \u001b[39mself\u001b[39m\u001b[39m.\u001b[39mb)\n\u001b[0;32m     35\u001b[0m \u001b[39mif\u001b[39;00m \u001b[39mself\u001b[39m\u001b[39m.\u001b[39mactivation \u001b[39m==\u001b[39m \u001b[39m\"\u001b[39m\u001b[39mtanh\u001b[39m\u001b[39m\"\u001b[39m:\n\u001b[1;32m---> 36\u001b[0m     \u001b[39mreturn\u001b[39;00m out\u001b[39m.\u001b[39;49mtanh()\n\u001b[0;32m     37\u001b[0m \u001b[39mreturn\u001b[39;00m out\n",
      "File \u001b[1;32md:\\material\\Machine_Deep\\github_repos\\AI_\\AI\\Others\\Micrograd\\minidiff\\autodiff.py:61\u001b[0m, in \u001b[0;36mValue.tanh\u001b[1;34m(self)\u001b[0m\n\u001b[0;32m     59\u001b[0m \u001b[39mdef\u001b[39;00m \u001b[39mtanh\u001b[39m(\u001b[39mself\u001b[39m):\n\u001b[0;32m     60\u001b[0m     x \u001b[39m=\u001b[39m \u001b[39mself\u001b[39m\u001b[39m.\u001b[39mdata\n\u001b[1;32m---> 61\u001b[0m     t \u001b[39m=\u001b[39m (math\u001b[39m.\u001b[39mexp(\u001b[39m2\u001b[39m \u001b[39m*\u001b[39m x) \u001b[39m-\u001b[39m \u001b[39m1\u001b[39m) \u001b[39m/\u001b[39m (math\u001b[39m.\u001b[39mexp(\u001b[39m2\u001b[39m \u001b[39m*\u001b[39m x) \u001b[39m+\u001b[39m \u001b[39m1\u001b[39m)\n\u001b[0;32m     62\u001b[0m     out \u001b[39m=\u001b[39m Value(t, (\u001b[39mself\u001b[39m,), \u001b[39m\"\u001b[39m\u001b[39mtanh\u001b[39m\u001b[39m\"\u001b[39m)\n\u001b[0;32m     64\u001b[0m     \u001b[39mdef\u001b[39;00m \u001b[39m_backward\u001b[39m():\n",
      "\u001b[1;31mOverflowError\u001b[0m: math range error"
     ]
    }
   ],
   "source": [
    "def plot_decision_boundary(model, x, y, h=0.25, threshold=0.0):\n",
    "    x_min, x_max = x[:, 0].min() - 1, x[:, 0].max() + 1\n",
    "    y_min, y_max = x[:, 1].min() - 1, x[:, 1].max() + 1\n",
    "\n",
    "    xx, yy = np.meshgrid(np.arange(x_min, x_max, h),\n",
    "                         np.arange(y_min, y_max, h))\n",
    "    \n",
    "    Xmesh = np.c_[xx.ravel(), yy.ravel()]\n",
    "    inputs = list(map(Value, xrow) for xrow in Xmesh)\n",
    "    scores = list(map(model, inputs))\n",
    "    Z = np.array([s[0].data >= threshold for s in scores])\n",
    "    Z = Z.reshape(xx.shape)\n",
    "    fig = plt.figure()\n",
    "    plt.contourf(xx, yy, Z, cmap=plt.cm.Spectral, alpha=0.8)\n",
    "    plot(x, y)\n",
    "    plt.xlim(xx.min(), xx.max())\n",
    "    plt.ylim(yy.min(), yy.max())\n",
    "\n",
    "plot_decision_boundary(model=model,\n",
    "                       x=x,\n",
    "                       y=y,\n",
    "                       threshold=0)"
   ]
  },
  {
   "cell_type": "code",
   "execution_count": null,
   "metadata": {},
   "outputs": [],
   "source": []
  },
  {
   "cell_type": "code",
   "execution_count": null,
   "metadata": {},
   "outputs": [],
   "source": []
  },
  {
   "cell_type": "code",
   "execution_count": null,
   "metadata": {},
   "outputs": [],
   "source": []
  }
 ],
 "metadata": {
  "kernelspec": {
   "display_name": "Python 3",
   "language": "python",
   "name": "python3"
  },
  "language_info": {
   "codemirror_mode": {
    "name": "ipython",
    "version": 3
   },
   "file_extension": ".py",
   "mimetype": "text/x-python",
   "name": "python",
   "nbconvert_exporter": "python",
   "pygments_lexer": "ipython3",
   "version": "3.11.3"
  },
  "orig_nbformat": 4
 },
 "nbformat": 4,
 "nbformat_minor": 2
}
