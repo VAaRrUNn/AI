{
 "cells": [
  {
   "cell_type": "code",
   "execution_count": 104,
   "metadata": {},
   "outputs": [],
   "source": [
    "import torch\n",
    "import torchvision\n",
    "from torchvision.datasets import MNIST\n",
    "from torch.utils.data import DataLoader\n",
    "from torch.utils.data import Dataset\n",
    "from torchvision.transforms import transforms\n",
    "import torch.nn as nn \n",
    "from torchvision.utils import make_grid\n",
    "import matplotlib.pyplot as plt\n",
    "import os\n",
    "import gzip\n",
    "import numpy as np\n",
    "from pathlib import Path"
   ]
  },
  {
   "cell_type": "code",
   "execution_count": 59,
   "metadata": {},
   "outputs": [
    {
     "data": {
      "text/plain": [
       "([WindowsPath('d:/material/Machine_Deep/github_repos/AI_/AI/DL/Vision/Visualizing_CNN/MNIST/raw/t10k-images-idx3-ubyte.gz'),\n",
       "  WindowsPath('d:/material/Machine_Deep/github_repos/AI_/AI/DL/Vision/Visualizing_CNN/MNIST/raw/train-images-idx3-ubyte.gz')],\n",
       " [WindowsPath('d:/material/Machine_Deep/github_repos/AI_/AI/DL/Vision/Visualizing_CNN/MNIST/raw/t10k-labels-idx1-ubyte.gz'),\n",
       "  WindowsPath('d:/material/Machine_Deep/github_repos/AI_/AI/DL/Vision/Visualizing_CNN/MNIST/raw/train-labels-idx1-ubyte.gz')])"
      ]
     },
     "execution_count": 59,
     "metadata": {},
     "output_type": "execute_result"
    }
   ],
   "source": [
    "mnist_dir = Path(os.getcwd()) / Path(\"MNIST/raw/\")\n",
    "dataset_dir = []\n",
    "for dirs in os.listdir(mnist_dir):\n",
    "    dataset_dir.append(mnist_dir / dirs)\n",
    "    \n",
    "images_dir = [dataset_dir[0], dataset_dir[2]]\n",
    "labels_dir = [dataset_dir[1], dataset_dir[3]]\n",
    "images_dir, labels_dir"
   ]
  },
  {
   "cell_type": "code",
   "execution_count": 60,
   "metadata": {},
   "outputs": [],
   "source": [
    "f = gzip.open(images_dir[0],'r')\n",
    "metadata = f.read(16)"
   ]
  },
  {
   "cell_type": "code",
   "execution_count": 61,
   "metadata": {},
   "outputs": [
    {
     "name": "stdout",
     "output_type": "stream",
     "text": [
      "Magic Number: 2051\n",
      "Number of Images: 10000\n",
      "Number of Rows: 28\n",
      "Number of Columns: 28\n"
     ]
    }
   ],
   "source": [
    "import struct\n",
    "\n",
    "# Unpack the bytes into integers\n",
    "magic_number = struct.unpack('>i', metadata[:4])[0]\n",
    "num_images = struct.unpack('>i', metadata[4:8])[0]\n",
    "num_rows = struct.unpack('>i', metadata[8:12])[0]\n",
    "num_cols = struct.unpack('>i', metadata[12:16])[0]\n",
    "\n",
    "# Print the values\n",
    "print(\"Magic Number:\", magic_number)\n",
    "print(\"Number of Images:\", num_images)\n",
    "print(\"Number of Rows:\", num_rows)\n",
    "print(\"Number of Columns:\", num_cols)\n"
   ]
  },
  {
   "cell_type": "code",
   "execution_count": 66,
   "metadata": {},
   "outputs": [],
   "source": [
    "def extract_images(file_path, num_images = 60_000):\n",
    "\n",
    "    f = gzip.open( file_path,'r')\n",
    "    image_size = 28\n",
    "    metadata = f.read(16)\n",
    "    buf = f.read(image_size * image_size * num_images)\n",
    "    data = np.frombuffer(buf, dtype=np.uint8).astype(np.float32)\n",
    "    data = data.reshape(num_images, image_size, image_size, 1)\n",
    "    return data\n",
    "\n",
    "def extract_labels(file_path, num_labels = 60_000):\n",
    "\n",
    "    f = gzip.open(file_path,'r')\n",
    "    f.read(8)  \n",
    "    buf = f.read(num_labels)\n",
    "    labels = np.frombuffer(buf, dtype=np.uint8).astype(np.int64)\n",
    "    return labels\n"
   ]
  },
  {
   "cell_type": "code",
   "execution_count": 263,
   "metadata": {},
   "outputs": [],
   "source": [
    "train_images = extract_images(images_dir[1], 60_000)\n",
    "train_labels = extract_labels(labels_dir[1], 60_000)\n",
    "\n",
    "test_images = extract_images(images_dir[0], 10_000)\n",
    "test_labels = extract_labels(labels_dir[0], 10_000)\n",
    "\n",
    "\n",
    "# Converting to torch\n",
    "train_images = torch.from_numpy(train_images)\n",
    "train_labels = torch.from_numpy(train_labels)\n",
    "\n",
    "test_images = torch.from_numpy(test_images)\n",
    "test_labels = torch.from_numpy(test_labels)\n",
    "\n",
    "# Resizing according to PyTorch conventions\n",
    "train_images = train_images.swapaxes(1, 3)\n",
    "test_images = test_images.swapaxes(1, 3)"
   ]
  },
  {
   "cell_type": "code",
   "execution_count": null,
   "metadata": {},
   "outputs": [],
   "source": []
  },
  {
   "cell_type": "code",
   "execution_count": 132,
   "metadata": {},
   "outputs": [],
   "source": [
    "class CustomDataset(Dataset):\n",
    "    def __init__(self,\n",
    "                 dataset,\n",
    "                 labels,\n",
    "                 transform = None):\n",
    "        \n",
    "        self.images = dataset\n",
    "        self.labels = labels\n",
    "        self.transform = transform\n",
    "\n",
    "    def __getitem__(self, index):\n",
    "\n",
    "        image = self.images[index]\n",
    "        if self.transform:\n",
    "            image =  self.transform(self.images[index])\n",
    "        \n",
    "        return (image, self.labels[index])\n",
    "    \n",
    "    def __len__(self):\n",
    "        return len(self.images)"
   ]
  },
  {
   "attachments": {},
   "cell_type": "markdown",
   "metadata": {},
   "source": [
    "## Making dataset and dataloader"
   ]
  },
  {
   "cell_type": "code",
   "execution_count": 214,
   "metadata": {},
   "outputs": [],
   "source": [
    "BATCH_SIZE = 128\n",
    "\n",
    "train_transform = transforms.Compose([\n",
    "    transforms.ToPILImage(),\n",
    "    transforms.ToTensor(),\n",
    "])\n",
    "train_dataset = CustomDataset(dataset=train_images,\n",
    "                              labels=train_labels,\n",
    "                              transform=train_transform)\n",
    "\n",
    "train_dataloader = DataLoader(dataset=train_dataset,\n",
    "                              batch_size=BATCH_SIZE,\n",
    "                              shuffle=True)\n"
   ]
  },
  {
   "cell_type": "code",
   "execution_count": 183,
   "metadata": {},
   "outputs": [
    {
     "name": "stdout",
     "output_type": "stream",
     "text": [
      "torch.Size([1, 6, 4, 4])\n"
     ]
    },
    {
     "data": {
      "text/plain": [
       "78"
      ]
     },
     "execution_count": 183,
     "metadata": {},
     "output_type": "execute_result"
    }
   ],
   "source": [
    "image = torch.ones((1, 3, 5, 5))\n",
    "model = nn.Sequential(\n",
    "    nn.Conv2d(in_channels=3,\n",
    "              out_channels=6,\n",
    "              kernel_size=2,\n",
    "              stride=1,\n",
    "              padding=0)\n",
    ")\n",
    "print(model(image).shape)\n",
    "torch.numel(model[0].weight) + torch.numel(model[0].bias)"
   ]
  },
  {
   "cell_type": "code",
   "execution_count": 184,
   "metadata": {},
   "outputs": [
    {
     "name": "stdout",
     "output_type": "stream",
     "text": [
      "torch.Size([1, 6, 4, 4])\n"
     ]
    },
    {
     "data": {
      "text/plain": [
       "30"
      ]
     },
     "execution_count": 184,
     "metadata": {},
     "output_type": "execute_result"
    }
   ],
   "source": [
    "image = torch.ones((1, 3, 5, 5))\n",
    "model = nn.Sequential(\n",
    "    nn.Conv2d(in_channels=3,\n",
    "              out_channels=6,\n",
    "              kernel_size=2,\n",
    "              stride=1,\n",
    "              padding=0,\n",
    "              groups=3)\n",
    ")\n",
    "print(model(image).shape)\n",
    "torch.numel(model[0].weight) + torch.numel(model[0].bias)"
   ]
  },
  {
   "cell_type": "code",
   "execution_count": 208,
   "metadata": {},
   "outputs": [],
   "source": [
    "class Classification(nn.Module):\n",
    "    def __init__(self,\n",
    "                 in_channels = 1):\n",
    "        \n",
    "        super().__init__()\n",
    "        self.block1 = nn.Sequential(\n",
    "            nn.Conv2d(in_channels=in_channels,\n",
    "                      out_channels=in_channels * 2,\n",
    "                      kernel_size=3,\n",
    "                      stride=2,\n",
    "                      padding=0,\n",
    "                      groups=in_channels),\n",
    "            nn.BatchNorm2d(num_features=in_channels * 2),\n",
    "            nn.LeakyReLU(0.2),\n",
    "            nn.Conv2d(in_channels=in_channels*2,\n",
    "                      out_channels=in_channels * 4,\n",
    "                      kernel_size=3,\n",
    "                      stride=2,\n",
    "                      padding=0,\n",
    "                      groups=in_channels * 2),\n",
    "            nn.LeakyReLU(0.2),\n",
    "            nn.Flatten(),\n",
    "            nn.Linear(144, 16),\n",
    "            nn.Linear(16, 10),\n",
    "            nn.Softmax(dim=1),\n",
    "        )\n",
    "\n",
    "    def forward(self, x):\n",
    "        return self.block1(x)\n"
   ]
  },
  {
   "cell_type": "code",
   "execution_count": 209,
   "metadata": {},
   "outputs": [
    {
     "data": {
      "text/plain": [
       "tensor([[0.0825, 0.1011, 0.0807, 0.1093, 0.0881, 0.1074, 0.0990, 0.1160, 0.1296,\n",
       "         0.0863]], grad_fn=<SoftmaxBackward0>)"
      ]
     },
     "execution_count": 209,
     "metadata": {},
     "output_type": "execute_result"
    }
   ],
   "source": [
    "model = Classification()\n",
    "model(train_dataset[0][0].unsqueeze(0))"
   ]
  },
  {
   "cell_type": "code",
   "execution_count": null,
   "metadata": {},
   "outputs": [],
   "source": []
  },
  {
   "cell_type": "code",
   "execution_count": 215,
   "metadata": {},
   "outputs": [],
   "source": [
    "def train(model,\n",
    "          dataloader,\n",
    "          optimizer,\n",
    "          epochs,\n",
    "          loss_fn):\n",
    "    model.train()\n",
    "    for epoch in range(epochs):\n",
    "        for images, labels in dataloader:\n",
    "            predictios = model(images)\n",
    "            loss = loss_fn(predictios, labels)\n",
    "\n",
    "            optimizer.zero_grad()\n",
    "            loss.backward()\n",
    "            optimizer.step()\n",
    "\n",
    "        if epoch % 3 == 0:\n",
    "            print(f\"Loss -> {loss.item():.4f}\")\n",
    "\n",
    "            "
   ]
  },
  {
   "cell_type": "code",
   "execution_count": 216,
   "metadata": {},
   "outputs": [],
   "source": [
    "loss_fn = nn.CrossEntropyLoss()\n",
    "optimizer = torch.optim.Adam(params=model.parameters())"
   ]
  },
  {
   "cell_type": "code",
   "execution_count": 217,
   "metadata": {},
   "outputs": [
    {
     "name": "stdout",
     "output_type": "stream",
     "text": [
      "Loss -> 1.6707\n",
      "Loss -> 1.6936\n",
      "Loss -> 1.6458\n",
      "Loss -> 1.6397\n"
     ]
    }
   ],
   "source": [
    "train(model=model,\n",
    "      dataloader=train_dataloader,\n",
    "      optimizer=optimizer,\n",
    "      loss_fn=loss_fn,\n",
    "      epochs=10)"
   ]
  },
  {
   "cell_type": "code",
   "execution_count": 228,
   "metadata": {},
   "outputs": [
    {
     "data": {
      "text/plain": [
       "tensor(1)"
      ]
     },
     "execution_count": 228,
     "metadata": {},
     "output_type": "execute_result"
    }
   ],
   "source": [
    "torch.argmax(model(train_dataset[200][0].unsqueeze(0)))"
   ]
  },
  {
   "cell_type": "code",
   "execution_count": 227,
   "metadata": {},
   "outputs": [
    {
     "data": {
      "text/plain": [
       "tensor(1)"
      ]
     },
     "execution_count": 227,
     "metadata": {},
     "output_type": "execute_result"
    }
   ],
   "source": [
    "train_dataset[200][1]"
   ]
  },
  {
   "attachments": {},
   "cell_type": "markdown",
   "metadata": {},
   "source": [
    "# Visualizing the outputs"
   ]
  },
  {
   "cell_type": "code",
   "execution_count": 238,
   "metadata": {},
   "outputs": [
    {
     "data": {
      "text/plain": [
       "torch.Size([1, 28, 28])"
      ]
     },
     "execution_count": 238,
     "metadata": {},
     "output_type": "execute_result"
    }
   ],
   "source": [
    "train_dataset[0][0].shape"
   ]
  },
  {
   "cell_type": "code",
   "execution_count": 254,
   "metadata": {},
   "outputs": [
    {
     "data": {
      "text/plain": [
       "Classification(\n",
       "  (block1): Sequential(\n",
       "    (0): Conv2d(1, 2, kernel_size=(3, 3), stride=(2, 2))\n",
       "    (1): BatchNorm2d(2, eps=1e-05, momentum=0.1, affine=True, track_running_stats=True)\n",
       "    (2): LeakyReLU(negative_slope=0.2)\n",
       "    (3): Conv2d(2, 4, kernel_size=(3, 3), stride=(2, 2), groups=2)\n",
       "    (4): LeakyReLU(negative_slope=0.2)\n",
       "    (5): Flatten(start_dim=1, end_dim=-1)\n",
       "    (6): Linear(in_features=144, out_features=16, bias=True)\n",
       "    (7): Linear(in_features=16, out_features=10, bias=True)\n",
       "    (8): Softmax(dim=1)\n",
       "  )\n",
       ")"
      ]
     },
     "execution_count": 254,
     "metadata": {},
     "output_type": "execute_result"
    }
   ],
   "source": [
    "model"
   ]
  },
  {
   "cell_type": "code",
   "execution_count": 285,
   "metadata": {},
   "outputs": [
    {
     "data": {
      "text/plain": [
       "<matplotlib.image.AxesImage at 0x1d99520a350>"
      ]
     },
     "execution_count": 285,
     "metadata": {},
     "output_type": "execute_result"
    },
    {
     "data": {
      "image/png": "[encoded data removed]",
      "text/plain": [
       "<Figure size 640x480 with 1 Axes>"
      ]
     },
     "metadata": {},
     "output_type": "display_data"
    }
   ],
   "source": [
    "plt.imshow(model.block1[0].weight[0].detach().T)\n",
    "plt.imshow(model.block1[0].weight[1].detach().T)"
   ]
  },
  {
   "cell_type": "code",
   "execution_count": 277,
   "metadata": {},
   "outputs": [
    {
     "data": {
      "text/plain": [
       "<matplotlib.image.AxesImage at 0x1d988ad9720>"
      ]
     },
     "execution_count": 277,
     "metadata": {},
     "output_type": "execute_result"
    },
    {
     "data": {
      "image/png": "[encoded data removed]",
      "text/plain": [
       "<Figure size 1280x960 with 3 Axes>"
      ]
     },
     "metadata": {},
     "output_type": "display_data"
    }
   ],
   "source": [
    "image = train_dataset[1020][0]\n",
    "\n",
    "l1_f1 = model.block1[0](image)[0]\n",
    "l1_f2 = model.block1[0](image)[1]\n",
    "\n",
    "fig, axes = plt.subplots(nrows=3, dpi=200)\n",
    "\n",
    "axes[0].imshow(image.T, cmap=\"gray\")\n",
    "axes[1].imshow(l1_f1.unsqueeze(0).T.detach().numpy(), cmap=\"gray\")\n",
    "axes[2].imshow(l1_f2.unsqueeze(0).T.detach().numpy(), cmap=\"gray\")"
   ]
  },
  {
   "attachments": {},
   "cell_type": "markdown",
   "metadata": {},
   "source": [
    "## Will be better for RGB inputs"
   ]
  },
  {
   "cell_type": "code",
   "execution_count": null,
   "metadata": {},
   "outputs": [],
   "source": []
  },
  {
   "cell_type": "code",
   "execution_count": null,
   "metadata": {},
   "outputs": [],
   "source": []
  },
  {
   "cell_type": "code",
   "execution_count": null,
   "metadata": {},
   "outputs": [],
   "source": []
  },
  {
   "cell_type": "code",
   "execution_count": null,
   "metadata": {},
   "outputs": [],
   "source": []
  },
  {
   "cell_type": "code",
   "execution_count": null,
   "metadata": {},
   "outputs": [],
   "source": []
  },
  {
   "cell_type": "code",
   "execution_count": null,
   "metadata": {},
   "outputs": [],
   "source": []
  }
 ],
 "metadata": {
  "kernelspec": {
   "display_name": "ds",
   "language": "python",
   "name": "python3"
  },
  "language_info": {
   "codemirror_mode": {
    "name": "ipython",
    "version": 3
   },
   "file_extension": ".py",
   "mimetype": "text/x-python",
   "name": "python",
   "nbconvert_exporter": "python",
   "pygments_lexer": "ipython3",
   "version": "3.10.11"
  },
  "orig_nbformat": 4
 },
 "nbformat": 4,
 "nbformat_minor": 2
}
