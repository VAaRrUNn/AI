{
 "cells": [
  {
   "cell_type": "code",
   "execution_count": 89,
   "id": "fb57b959",
   "metadata": {},
   "outputs": [],
   "source": [
    "import torch\n",
    "from torch.utils.data import Dataset, DataLoader\n",
    "import torch.nn as nn\n",
    "import torch.nn.functional as F\n",
    "import torch.optim as optim\n",
    "import torchvision.transforms as transforms\n",
    "import numpy as np\n",
    "from torchvision import datasets"
   ]
  },
  {
   "cell_type": "markdown",
   "id": "447a8438",
   "metadata": {},
   "source": [
    "# Getting dataset"
   ]
  },
  {
   "cell_type": "code",
   "execution_count": 2,
   "id": "7de5f6ec",
   "metadata": {},
   "outputs": [
    {
     "name": "stdout",
     "output_type": "stream",
     "text": [
      "Files already downloaded and verified\n",
      "Files already downloaded and verified\n"
     ]
    }
   ],
   "source": [
    "\n",
    "cifar10 = datasets.CIFAR10(\".\", train=True, download=True, transform = transforms.ToTensor())\n",
    "cifar10_val = datasets.CIFAR10(\".\", train=False, download=True, transform = transforms.ToTensor())"
   ]
  },
  {
   "cell_type": "code",
   "execution_count": 3,
   "id": "f6bde4b5",
   "metadata": {},
   "outputs": [
    {
     "data": {
      "text/plain": [
       "(torch.Size([3, 32, 32]), torch.float32)"
      ]
     },
     "execution_count": 3,
     "metadata": {},
     "output_type": "execute_result"
    }
   ],
   "source": [
    "img1, label1 = cifar10[0]\n",
    "img1.shape, img1.dtype"
   ]
  },
  {
   "cell_type": "code",
   "execution_count": 4,
   "id": "525a2e97",
   "metadata": {},
   "outputs": [
    {
     "data": {
      "text/plain": [
       "(tensor(1.), tensor(0.))"
      ]
     },
     "execution_count": 4,
     "metadata": {},
     "output_type": "execute_result"
    }
   ],
   "source": [
    "torch.max(img1), torch.min(img1)"
   ]
  },
  {
   "cell_type": "code",
   "execution_count": 5,
   "id": "c60bb61d",
   "metadata": {},
   "outputs": [
    {
     "data": {
      "text/plain": [
       "<matplotlib.image.AxesImage at 0x18a8296de50>"
      ]
     },
     "execution_count": 5,
     "metadata": {},
     "output_type": "execute_result"
    },
    {
     "data": {
      "image/png": "[encoded data removed]",
      "text/plain": [
       "<Figure size 432x288 with 1 Axes>"
      ]
     },
     "metadata": {
      "needs_background": "light"
     },
     "output_type": "display_data"
    }
   ],
   "source": [
    "import matplotlib.pyplot as plt\n",
    "plt.imshow(img1.permute(1, 2, 0))"
   ]
  },
  {
   "cell_type": "markdown",
   "id": "1ec5badc",
   "metadata": {},
   "source": [
    "## Normalizing the dataset"
   ]
  },
  {
   "cell_type": "raw",
   "id": "9f663e54",
   "metadata": {},
   "source": [
    "stack the images then take mean across each channel"
   ]
  },
  {
   "cell_type": "code",
   "execution_count": 6,
   "id": "3920bdbe",
   "metadata": {},
   "outputs": [
    {
     "data": {
      "text/plain": [
       "(50000, 32, 32, 3)"
      ]
     },
     "execution_count": 6,
     "metadata": {},
     "output_type": "execute_result"
    }
   ],
   "source": [
    "cifar10.data.shape"
   ]
  },
  {
   "cell_type": "code",
   "execution_count": 7,
   "id": "bee8e7b1",
   "metadata": {},
   "outputs": [
    {
     "data": {
      "text/plain": [
       "torch.Size([3, 32, 32, 50000])"
      ]
     },
     "execution_count": 7,
     "metadata": {},
     "output_type": "execute_result"
    }
   ],
   "source": [
    "imgs = torch.stack([img_t for img_t, _ in cifar10], dim=3)\n",
    "imgs.shape"
   ]
  },
  {
   "cell_type": "code",
   "execution_count": 8,
   "id": "fa528e26",
   "metadata": {},
   "outputs": [
    {
     "data": {
      "text/plain": [
       "(tensor([0.4914, 0.4822, 0.4465]), tensor([0.2470, 0.2435, 0.2616]))"
      ]
     },
     "execution_count": 8,
     "metadata": {},
     "output_type": "execute_result"
    }
   ],
   "source": [
    "mean = imgs.view(3, -1).mean(dim=1)\n",
    "std = imgs.view(3, -1).std(dim=1)\n",
    "mean, std"
   ]
  },
  {
   "cell_type": "markdown",
   "id": "7217b580",
   "metadata": {},
   "source": [
    "## Creating a transform to normalize the data"
   ]
  },
  {
   "cell_type": "code",
   "execution_count": 9,
   "id": "0a8ea0c1",
   "metadata": {},
   "outputs": [],
   "source": [
    "normalize_transform = transforms.Compose([\n",
    "    transforms.Normalize(\n",
    "        mean=[0.4914, 0.4822, 0.4465], std=[0.2470, 0.2435, 0.2616]),\n",
    "transforms.ToTensor()])"
   ]
  },
  {
   "cell_type": "markdown",
   "id": "1c9ba6d5",
   "metadata": {},
   "source": [
    "## Creating transformed dataset + dataloader"
   ]
  },
  {
   "cell_type": "markdown",
   "id": "75088d00",
   "metadata": {},
   "source": [
    "### Here I did a lot of errors cause:\n",
    "### first the imgs are in PIL so you have to change them in tensors\n",
    "### and if you have already them in tensor ig don't use ToTensor() then\n"
   ]
  },
  {
   "cell_type": "code",
   "execution_count": 14,
   "id": "d650e1a9",
   "metadata": {},
   "outputs": [],
   "source": [
    "cifar10 = datasets.CIFAR10('.', \n",
    "                           download=False, \n",
    "                           train=True,\n",
    "                           transform=\n",
    "                           transforms.Compose([\n",
    "                               transforms.ToTensor(),\n",
    "                               transforms.Normalize(\n",
    "                                   mean=[0.4914, 0.4822, 0.4465], \n",
    "                                   std=[0.2470, 0.2435, 0.2616])]))\n",
    "\n",
    "cifar10_val = datasets.CIFAR10('.', \n",
    "                               download=False, \n",
    "                               train=False,\n",
    "                               transform=transforms.Compose([\n",
    "                               transforms.ToTensor(),\n",
    "                                   transforms.Normalize(\n",
    "                                       mean=[0.4914, 0.4822, 0.4465], \n",
    "                                       std=[0.2470, 0.2435, 0.2616])]))"
   ]
  },
  {
   "cell_type": "code",
   "execution_count": 15,
   "id": "00df028a",
   "metadata": {},
   "outputs": [],
   "source": [
    "train_dataloader = DataLoader(cifar10, shuffle=True, batch_size=32)\n",
    "test_dataloader = DataLoader(cifar10_val, shuffle=False, batch_size=32)"
   ]
  },
  {
   "cell_type": "code",
   "execution_count": 28,
   "id": "176d83d5",
   "metadata": {},
   "outputs": [
    {
     "data": {
      "text/plain": [
       "['airplane',\n",
       " 'automobile',\n",
       " 'bird',\n",
       " 'cat',\n",
       " 'deer',\n",
       " 'dog',\n",
       " 'frog',\n",
       " 'horse',\n",
       " 'ship',\n",
       " 'truck']"
      ]
     },
     "execution_count": 28,
     "metadata": {},
     "output_type": "execute_result"
    }
   ],
   "source": [
    "classes = cifar10.classes\n",
    "classes"
   ]
  },
  {
   "cell_type": "code",
   "execution_count": 29,
   "id": "ecda8ae0",
   "metadata": {
    "scrolled": true
   },
   "outputs": [
    {
     "name": "stderr",
     "output_type": "stream",
     "text": [
      "Clipping input data to the valid range for imshow with RGB data ([0..1] for floats or [0..255] for integers).\n"
     ]
    },
    {
     "name": "stdout",
     "output_type": "stream",
     "text": [
      "torch.Size([32, 3, 32, 32])\n"
     ]
    },
    {
     "data": {
      "text/plain": [
       "(-0.5, 31.5, 31.5, -0.5)"
      ]
     },
     "execution_count": 29,
     "metadata": {},
     "output_type": "execute_result"
    },
    {
     "data": {
      "image/png": "[encoded data removed]",
      "text/plain": [
       "<Figure size 432x288 with 1 Axes>"
      ]
     },
     "metadata": {
      "needs_background": "light"
     },
     "output_type": "display_data"
    }
   ],
   "source": [
    "img, label = next(iter(train_dataloader))\n",
    "print(img.shape)\n",
    "plt.imshow(img[1].permute(1, 2, 0))\n",
    "plt.title(classes[1])\n",
    "plt.axis(\"off\")"
   ]
  },
  {
   "cell_type": "markdown",
   "id": "4e2ef414",
   "metadata": {},
   "source": [
    "## Making model (Resnet)"
   ]
  },
  {
   "cell_type": "code",
   "execution_count": 62,
   "id": "15a8bbc2",
   "metadata": {},
   "outputs": [],
   "source": [
    "import torch.nn.functional as F\n",
    "class ResBlock(nn.Module):\n",
    "    \"\"\"\n",
    "    This is one block of the ResNet\n",
    "    \"\"\"\n",
    "    def __init__(self, n_channels=3):\n",
    "        super(ResBlock, self).__init__()\n",
    "        self.conv = nn.Conv2d(n_channels, n_channels, padding=1, kernel_size=3)\n",
    "        self.batch_norm = nn.BatchNorm2d(n_channels)\n",
    "        \n",
    "        ## weight initialization\n",
    "        nn.init.kaiming_normal_(self.conv.weight, nonlinearity=\"relu\")\n",
    "        nn.init.constant_(self.batch_norm.weight,val=0.5)\n",
    "        nn.init.zeros_(self.batch_norm.bias)\n",
    "        \n",
    "    def forward(self, x):\n",
    "        out = self.conv(x)\n",
    "        out = self.batch_norm(out)\n",
    "        out = F.relu(out) + x\n",
    "        return out"
   ]
  },
  {
   "cell_type": "code",
   "execution_count": 236,
   "id": "09a254c6",
   "metadata": {},
   "outputs": [],
   "source": [
    "class ResNet(nn.Module):\n",
    "    \"\"\"\n",
    "    ResNet implemented\n",
    "    This is simply staking ResBlock\n",
    "    \"\"\"\n",
    "    def __init__(self, n_channels=32, n_block=10):\n",
    "        super().__init__()\n",
    "        self.first_block = nn.Conv2d(3, n_channels, padding=1, kernel_size=3)\n",
    "        ## making blocks using ResBlock and then multiplying it with n_block\n",
    "        ## to get the desired number of blocks and then unpacking using *\n",
    "        ## (10 * [ResBlock(...)]) and then simply unpack it\n",
    "        self.resblocks = nn.Sequential(\n",
    "        *(n_block * [ResBlock(n_channels)]))\n",
    "        \n",
    "        \n",
    "        self.fc = nn.Sequential(\n",
    "        nn.Flatten(),\n",
    "        nn.Linear(32768, 64),\n",
    "        nn.Linear(64, 32),\n",
    "        nn.Linear(32, len(classes)))\n",
    "        \n",
    "    def forward(self, x):\n",
    "        out = self.first_block(x)\n",
    "        out = self.resblocks(out)\n",
    "        out = F.softmax(self.fc(out), dim=1)\n",
    "        return out"
   ]
  },
  {
   "cell_type": "code",
   "execution_count": 237,
   "id": "1f32938b",
   "metadata": {},
   "outputs": [
    {
     "name": "stdout",
     "output_type": "stream",
     "text": [
      "torch.Size([1, 10]) torch.Size([1, 3, 32, 32])\n"
     ]
    },
    {
     "data": {
      "text/plain": [
       "(torch.Size([32, 10]), torch.Size([32, 3, 32, 32]))"
      ]
     },
     "execution_count": 237,
     "metadata": {},
     "output_type": "execute_result"
    }
   ],
   "source": [
    "test = ResNet(n_block=10)\n",
    "print(test(img[0].unsqueeze(0)).shape, img[0].unsqueeze(0).shape)\n",
    "test(img).shape, img.shape"
   ]
  },
  {
   "cell_type": "markdown",
   "id": "10302c6c",
   "metadata": {},
   "source": [
    "## Setting up optimizer and loss"
   ]
  },
  {
   "cell_type": "code",
   "execution_count": 238,
   "id": "340f4314",
   "metadata": {},
   "outputs": [],
   "source": [
    "model0 = ResNet()\n",
    "optimizer = optim.Adam(params=model0.parameters())\n",
    "loss_fn = nn.CrossEntropyLoss()"
   ]
  },
  {
   "cell_type": "markdown",
   "id": "8805ee9a",
   "metadata": {},
   "source": [
    "## Training loop"
   ]
  },
  {
   "cell_type": "code",
   "execution_count": 240,
   "id": "4c2ceb42",
   "metadata": {},
   "outputs": [
    {
     "name": "stdout",
     "output_type": "stream",
     "text": [
      "tensor(2.3008, grad_fn=<NllLossBackward0>) torch.Size([32, 10]) torch.Size([32])\n"
     ]
    }
   ],
   "source": [
    "img, label = next(iter(test_dataloader))\n",
    "out = model0(img)\n",
    "print(loss_fn(out, label), out.shape, label.shape)\n",
    "acc = torch.sum(torch.argmax(out, dim=1) == label)"
   ]
  },
  {
   "cell_type": "code",
   "execution_count": 241,
   "id": "196d0152",
   "metadata": {},
   "outputs": [],
   "source": [
    "def train_step(model: nn.Module,\n",
    "              optimizer: torch.optim.Optimizer,\n",
    "              epochs: int,\n",
    "              train_dataloader: torch.utils.data.DataLoader,\n",
    "              loss_fn: torch.nn.Module):\n",
    "    \n",
    "    train_loss = []\n",
    "    model.train()\n",
    "    for epoch in range(epochs):\n",
    "        for i, (imgs, labels) in enumerate(train_dataloader):\n",
    "            if (i%1000 == 0):\n",
    "                print(i)\n",
    "            predictions = model(imgs)\n",
    "            loss = loss_fn(predictions, labels)\n",
    "            \n",
    "            train_loss.append(loss.item())\n",
    "            optimizer.zero_grad()\n",
    "            loss.backward()\n",
    "            optimizer.step()\n",
    "            \n",
    "    return train_loss"
   ]
  },
  {
   "cell_type": "code",
   "execution_count": 242,
   "id": "d62500f0",
   "metadata": {},
   "outputs": [],
   "source": [
    "def test_step(model: nn.Module,\n",
    "              test_dataloader: torch.utils.data.DataLoader):\n",
    "    \n",
    "    acc = 0\n",
    "    model.eval()\n",
    "    with torch.inference_mode():\n",
    "        for imgs, labels in test_dataloader  :\n",
    "            prediction = model(imgs)\n",
    "            \n",
    "            acc += torch.sum(torch.argmax(prediction, dim=1) == labels).item()\n",
    "    acc = acc / len(test_dataloader.dataset)\n",
    "    return acc\n",
    "            "
   ]
  },
  {
   "cell_type": "code",
   "execution_count": 243,
   "id": "6823e76d",
   "metadata": {},
   "outputs": [
    {
     "name": "stdout",
     "output_type": "stream",
     "text": [
      "0\n"
     ]
    }
   ],
   "source": [
    "for i, (img, label) in enumerate(train_dataloader):\n",
    "    print(i)\n",
    "    if i == 0:\n",
    "        break"
   ]
  },
  {
   "cell_type": "code",
   "execution_count": 244,
   "id": "1447413e",
   "metadata": {},
   "outputs": [
    {
     "name": "stdout",
     "output_type": "stream",
     "text": [
      "0\n",
      "1000\n"
     ]
    }
   ],
   "source": [
    "train_loss = train_step(\n",
    "model=model0,\n",
    "optimizer=optimizer,\n",
    "epochs=1,\n",
    "train_dataloader=train_dataloader,\n",
    "loss_fn=loss_fn)"
   ]
  },
  {
   "cell_type": "code",
   "execution_count": 245,
   "id": "3bf785f2",
   "metadata": {},
   "outputs": [],
   "source": [
    "new_loss = list(map(lambda x: sum(x)/32, [train_loss[i:i+32] for i in range(0, len(train_loss), 32)] ))"
   ]
  },
  {
   "cell_type": "code",
   "execution_count": 246,
   "id": "15a49b06",
   "metadata": {},
   "outputs": [
    {
     "data": {
      "text/plain": [
       "(49, 48.84375)"
      ]
     },
     "execution_count": 246,
     "metadata": {},
     "output_type": "execute_result"
    }
   ],
   "source": [
    "len(new_loss), len(train_loss)/32"
   ]
  },
  {
   "cell_type": "code",
   "execution_count": 247,
   "id": "9e7ca101",
   "metadata": {},
   "outputs": [
    {
     "data": {
      "text/plain": [
       "[<matplotlib.lines.Line2D at 0x18abe677e80>]"
      ]
     },
     "execution_count": 247,
     "metadata": {},
     "output_type": "execute_result"
    },
    {
     "data": {
      "image/png": "[encoded data removed]",
      "text/plain": [
       "<Figure size 432x288 with 1 Axes>"
      ]
     },
     "metadata": {
      "needs_background": "light"
     },
     "output_type": "display_data"
    }
   ],
   "source": [
    "plt.plot(train_loss, np.arange(len(train_loss)), '.')"
   ]
  },
  {
   "cell_type": "code",
   "execution_count": 248,
   "id": "c2146be7",
   "metadata": {},
   "outputs": [
    {
     "data": {
      "text/plain": [
       "[<matplotlib.lines.Line2D at 0x18abe6c4970>]"
      ]
     },
     "execution_count": 248,
     "metadata": {},
     "output_type": "execute_result"
    },
    {
     "data": {
      "image/png": "[encoded data removed]",
      "text/plain": [
       "<Figure size 432x288 with 1 Axes>"
      ]
     },
     "metadata": {
      "needs_background": "light"
     },
     "output_type": "display_data"
    }
   ],
   "source": [
    "plt.plot(new_loss, np.arange(len(new_loss)))"
   ]
  },
  {
   "cell_type": "code",
   "execution_count": 249,
   "id": "d2465434",
   "metadata": {},
   "outputs": [],
   "source": [
    "acc = test_step(model=model0,\n",
    "               test_dataloader=test_dataloader)"
   ]
  },
  {
   "cell_type": "code",
   "execution_count": 250,
   "id": "23d91977",
   "metadata": {},
   "outputs": [
    {
     "data": {
      "text/plain": [
       "10000"
      ]
     },
     "execution_count": 250,
     "metadata": {},
     "output_type": "execute_result"
    }
   ],
   "source": [
    "len(test_dataloader.dataset)"
   ]
  },
  {
   "cell_type": "code",
   "execution_count": 251,
   "id": "f45b3a80",
   "metadata": {},
   "outputs": [
    {
     "data": {
      "text/plain": [
       "0.1"
      ]
     },
     "execution_count": 251,
     "metadata": {},
     "output_type": "execute_result"
    }
   ],
   "source": [
    "acc"
   ]
  },
  {
   "cell_type": "code",
   "execution_count": 252,
   "id": "677d3757",
   "metadata": {},
   "outputs": [],
   "source": [
    "acc = test_step(model=model0,\n",
    "               test_dataloader=train_dataloader)"
   ]
  },
  {
   "cell_type": "code",
   "execution_count": 253,
   "id": "b8f323b0",
   "metadata": {},
   "outputs": [
    {
     "data": {
      "text/plain": [
       "0.1"
      ]
     },
     "execution_count": 253,
     "metadata": {},
     "output_type": "execute_result"
    }
   ],
   "source": [
    "acc"
   ]
  }
 ],
 "metadata": {
  "kernelspec": {
   "display_name": "Python 3 (ipykernel)",
   "language": "python",
   "name": "python3"
  },
  "language_info": {
   "codemirror_mode": {
    "name": "ipython",
    "version": 3
   },
   "file_extension": ".py",
   "mimetype": "text/x-python",
   "name": "python",
   "nbconvert_exporter": "python",
   "pygments_lexer": "ipython3",
   "version": "3.9.0"
  }
 },
 "nbformat": 4,
 "nbformat_minor": 5
}
