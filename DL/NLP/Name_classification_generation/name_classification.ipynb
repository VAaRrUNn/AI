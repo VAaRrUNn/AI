{
 "cells": [
  {
   "cell_type": "code",
   "execution_count": 1,
   "metadata": {},
   "outputs": [],
   "source": [
    "from io import open\n",
    "import glob\n",
    "import os\n",
    "import unicodedata\n",
    "import string\n",
    "import torch\n",
    "import torch.nn as nn"
   ]
  },
  {
   "cell_type": "code",
   "execution_count": 2,
   "metadata": {},
   "outputs": [
    {
     "name": "stdout",
     "output_type": "stream",
     "text": [
      "['data/names\\\\Arabic.txt', 'data/names\\\\Chinese.txt', 'data/names\\\\Czech.txt', 'data/names\\\\Dutch.txt', 'data/names\\\\English.txt', 'data/names\\\\French.txt', 'data/names\\\\German.txt', 'data/names\\\\Greek.txt', 'data/names\\\\Irish.txt', 'data/names\\\\Italian.txt', 'data/names\\\\Japanese.txt', 'data/names\\\\Korean.txt', 'data/names\\\\Polish.txt', 'data/names\\\\Portuguese.txt', 'data/names\\\\Russian.txt', 'data/names\\\\Scottish.txt', 'data/names\\\\Spanish.txt', 'data/names\\\\Vietnamese.txt']\n"
     ]
    }
   ],
   "source": [
    "def findFiles(path): return glob.glob(path)\n",
    "print(findFiles(\"data/names/*.txt\"))"
   ]
  },
  {
   "cell_type": "code",
   "execution_count": 3,
   "metadata": {},
   "outputs": [],
   "source": [
    "all_letters = string.ascii_letters + \" .,;'\"\n",
    "n_letters = len(all_letters)"
   ]
  },
  {
   "cell_type": "code",
   "execution_count": 4,
   "metadata": {},
   "outputs": [
    {
     "name": "stdout",
     "output_type": "stream",
     "text": [
      "Slusarski\n"
     ]
    }
   ],
   "source": [
    "def unicodeToAscii(s):\n",
    "    return ''.join(\n",
    "        c for c in unicodedata.normalize('NFD', s)\n",
    "        if unicodedata.category(c) != 'Mn'\n",
    "        and c in all_letters\n",
    "    )\n",
    "\n",
    "print(unicodeToAscii('Ślusàrski'))"
   ]
  },
  {
   "cell_type": "code",
   "execution_count": 5,
   "metadata": {},
   "outputs": [],
   "source": [
    "category_lines = {}\n",
    "all_categories = []\n",
    "\n",
    "def readLines(filename):\n",
    "    lines = open(filename, encoding='utf-8').read().strip().split('\\n')\n",
    "    return [unicodeToAscii(line) for line in lines]\n",
    "\n",
    "for filename in findFiles(\"data/names/*.txt\"):\n",
    "    category = os.path.splitext(os.path.basename(filename))[0]\n",
    "    all_categories.append(category)\n",
    "    lines = readLines(filename)\n",
    "    category_lines[category] = lines\n",
    "\n",
    "n_categories = len(all_categories)"
   ]
  },
  {
   "attachments": {},
   "cell_type": "markdown",
   "metadata": {},
   "source": [
    "## Turning names into tensors"
   ]
  },
  {
   "cell_type": "code",
   "execution_count": 6,
   "metadata": {},
   "outputs": [
    {
     "data": {
      "text/plain": [
       "['Khoury', 'Nahas', 'Daher', 'Gerges']"
      ]
     },
     "execution_count": 6,
     "metadata": {},
     "output_type": "execute_result"
    }
   ],
   "source": [
    "category_lines[\"Arabic\"][:4]"
   ]
  },
  {
   "cell_type": "code",
   "execution_count": 7,
   "metadata": {},
   "outputs": [
    {
     "name": "stdout",
     "output_type": "stream",
     "text": [
      "tensor([[0., 0., 0., 0., 0., 0., 0., 0., 0., 0., 0., 0., 0., 0., 0., 0., 0., 0.,\n",
      "         0., 0., 0., 0., 0., 0., 0., 0., 0., 0., 0., 0., 0., 0., 0., 0., 0., 1.,\n",
      "         0., 0., 0., 0., 0., 0., 0., 0., 0., 0., 0., 0., 0., 0., 0., 0., 0., 0.,\n",
      "         0., 0., 0.]])\n",
      "torch.Size([5, 1, 57])\n"
     ]
    }
   ],
   "source": [
    "def letterToIndex(letter):\n",
    "    return all_letters.find(letter)\n",
    "\n",
    "def letterToTensor(letter):\n",
    "    tensor = torch.zeros(1, n_letters)\n",
    "    tensor[0][letterToIndex(letter)] = 1\n",
    "    return tensor\n",
    "\n",
    "def wordToTensor(word):\n",
    "    tensor = torch.zeros(len(word), 1, n_letters)\n",
    "    for li, letter in enumerate(word):\n",
    "        tensor[li][0][letterToIndex(letter)] = 1\n",
    "    return tensor\n",
    "\n",
    "print(letterToTensor('J'))\n",
    "print(wordToTensor(\"Jones\").size())\n",
    "        "
   ]
  },
  {
   "attachments": {},
   "cell_type": "markdown",
   "metadata": {},
   "source": [
    "## Creating the network"
   ]
  },
  {
   "attachments": {},
   "cell_type": "markdown",
   "metadata": {},
   "source": [
    "### character based model in which whole word is processed and then a category is the output\n",
    "### Can be made more efficient as we are calculating the output multiple times when only it's needed in the last one"
   ]
  },
  {
   "cell_type": "code",
   "execution_count": 8,
   "metadata": {},
   "outputs": [
    {
     "data": {
      "text/plain": [
       "RNN(\n",
       "  (i2h): Linear(in_features=185, out_features=128, bias=True)\n",
       "  (h2o): Linear(in_features=128, out_features=18, bias=True)\n",
       "  (softmax): LogSoftmax(dim=1)\n",
       ")"
      ]
     },
     "execution_count": 8,
     "metadata": {},
     "output_type": "execute_result"
    }
   ],
   "source": [
    "## Here input will be a word (character wise), and output will be a category\n",
    "## It is a many-to-one model\n",
    "class RNN(nn.Module):\n",
    "    def __init__(self,\n",
    "                 input_size,\n",
    "                 hidden_size,\n",
    "                 output_size):\n",
    "        super(RNN, self).__init__()\n",
    "\n",
    "        self.hidden_size = hidden_size\n",
    "        self.i2h = nn.Linear(input_size + hidden_size, hidden_size)\n",
    "        self.h2o = nn.Linear(hidden_size, output_size)\n",
    "        self.softmax = nn.LogSoftmax(dim=1)\n",
    "\n",
    "    def forward(self, input, hidden):\n",
    "        combined = torch.cat((input, hidden), 1)\n",
    "        hidden = self.i2h(combined)\n",
    "        output = self.h2o(hidden)\n",
    "        output = self.softmax(output)\n",
    "        return output, hidden\n",
    "    \n",
    "    def initHidden(self):\n",
    "        return torch.zeros(1, self.hidden_size)\n",
    "    \n",
    "n_hidden = 128\n",
    "rnn = RNN(n_letters, n_hidden, n_categories)\n",
    "rnn"
   ]
  },
  {
   "cell_type": "code",
   "execution_count": 23,
   "metadata": {},
   "outputs": [
    {
     "data": {
      "text/plain": [
       "torch.Size([1, 57])"
      ]
     },
     "execution_count": 23,
     "metadata": {},
     "output_type": "execute_result"
    }
   ],
   "source": [
    "t1 = letterToTensor('A')\n",
    "t2 = torch.zeros((3, 1, 57))\n",
    "t2[1].shape"
   ]
  },
  {
   "cell_type": "code",
   "execution_count": 9,
   "metadata": {},
   "outputs": [
    {
     "data": {
      "text/plain": [
       "(tensor([[-2.9712, -2.8566, -2.8639, -2.8313, -2.9420, -2.7973, -2.8026, -2.9913,\n",
       "          -2.8250, -2.8851, -2.8110, -2.9604, -2.9679, -2.8766, -2.9736, -2.8580,\n",
       "          -2.9122, -2.9373]], grad_fn=<LogSoftmaxBackward0>),\n",
       " tensor([[ 0.0191, -0.0343, -0.0749,  0.1240,  0.0285,  0.0137, -0.0161, -0.0374,\n",
       "           0.0950, -0.0525,  0.0077, -0.0172,  0.0067,  0.0831, -0.0083,  0.0114,\n",
       "           0.1291, -0.0793,  0.0287,  0.0353,  0.0226, -0.0851,  0.0519, -0.1058,\n",
       "          -0.0193, -0.0328, -0.0493, -0.0140, -0.0043,  0.0518,  0.0727, -0.0845,\n",
       "          -0.1161,  0.0369,  0.0642,  0.0672,  0.0024,  0.0351, -0.0016, -0.0106,\n",
       "          -0.1183,  0.0679,  0.1290, -0.0080, -0.0332,  0.0493,  0.0912, -0.0828,\n",
       "          -0.0070,  0.0907,  0.0388,  0.0320, -0.0018, -0.1062, -0.0764, -0.0518,\n",
       "           0.0279,  0.0693,  0.1196,  0.0084, -0.0501,  0.0471,  0.0051, -0.0336,\n",
       "           0.1210,  0.0020,  0.0446, -0.0370, -0.0749, -0.0646, -0.0025,  0.0818,\n",
       "           0.0144, -0.0346, -0.0122,  0.0251,  0.0627,  0.0179,  0.0114,  0.0784,\n",
       "           0.0860, -0.1372, -0.0192, -0.0507,  0.0802, -0.0007, -0.1201, -0.0028,\n",
       "          -0.1133,  0.0455,  0.0133,  0.0953,  0.0142, -0.0057,  0.0169,  0.0778,\n",
       "           0.1320,  0.0963, -0.0680, -0.0897,  0.0842, -0.0284,  0.0432,  0.0219,\n",
       "          -0.0788,  0.0364, -0.1054,  0.0124, -0.0372, -0.0333,  0.0731, -0.0907,\n",
       "          -0.1013,  0.0775,  0.1026, -0.0311, -0.0105,  0.1286,  0.1168, -0.0522,\n",
       "          -0.0412,  0.0477,  0.0658,  0.0816, -0.0226,  0.1032,  0.0026, -0.0358]],\n",
       "        grad_fn=<AddmmBackward0>))"
      ]
     },
     "execution_count": 9,
     "metadata": {},
     "output_type": "execute_result"
    }
   ],
   "source": [
    "hidden = torch.zeros(1, n_hidden)\n",
    "output, next_hidden = rnn(letterToTensor('A'), hidden)\n",
    "output, next_hidden"
   ]
  },
  {
   "attachments": {},
   "cell_type": "markdown",
   "metadata": {},
   "source": [
    "## Training"
   ]
  },
  {
   "cell_type": "code",
   "execution_count": 10,
   "metadata": {},
   "outputs": [
    {
     "data": {
      "text/plain": [
       "('French', 5)"
      ]
     },
     "execution_count": 10,
     "metadata": {},
     "output_type": "execute_result"
    }
   ],
   "source": [
    "def categoryFromOutput(output):\n",
    "    top_n, top_i = output.topk(1) # index of greatest value\n",
    "    category_i = top_i[0].item()\n",
    "    return all_categories[category_i], category_i\n",
    "\n",
    "categoryFromOutput(output)"
   ]
  },
  {
   "cell_type": "code",
   "execution_count": 11,
   "metadata": {},
   "outputs": [
    {
     "data": {
      "text/plain": [
       "('Dutch',\n",
       " 'Kuiper',\n",
       " tensor([3]),\n",
       " torch.Size([6, 1, 57]),\n",
       " tensor([[0., 0., 0., 0., 0., 0., 0., 0., 0., 0., 0., 0., 0., 0., 0., 0., 0., 0.,\n",
       "          0., 0., 0., 0., 0., 0., 0., 0., 0., 0., 0., 0., 0., 0., 0., 0., 0., 0.,\n",
       "          1., 0., 0., 0., 0., 0., 0., 0., 0., 0., 0., 0., 0., 0., 0., 0., 0., 0.,\n",
       "          0., 0., 0.]]))"
      ]
     },
     "execution_count": 11,
     "metadata": {},
     "output_type": "execute_result"
    }
   ],
   "source": [
    "import random\n",
    "\n",
    "def randomChoice(l):\n",
    "    return l[random.randint(0, len(l) - 1)]\n",
    "\n",
    "def randomTrainingExample():\n",
    "    category = randomChoice(all_categories)\n",
    "    line = randomChoice(category_lines[category])\n",
    "    category_tensor = torch.tensor([all_categories.index(category)], dtype=torch.long)\n",
    "    line_tensor = wordToTensor(line)\n",
    "    return category, line, category_tensor, line_tensor\n",
    "\n",
    "# for i in range(10):\n",
    "#     category, line, category_tensor, line_tensor = randomTrainingExample()\n",
    "    # print('category =', category, '/ line =', line)\n",
    "\n",
    "category, line, category_tensor, line_tensor = randomTrainingExample()\n",
    "category, line, category_tensor, line_tensor.size(), line_tensor[0]\n",
    "\n"
   ]
  },
  {
   "cell_type": "code",
   "execution_count": 12,
   "metadata": {},
   "outputs": [],
   "source": [
    "# Using NLLLoss cause we used LogSoftmax earlier.\n",
    "\n",
    "# If you apply Pytorch’s CrossEntropyLoss to your output layer,\n",
    "# you get the same result as applying Pytorch’s NLLLoss to a\n",
    "# LogSoftmax layer added after your original output layer.\n",
    "\n",
    "criterion = nn.NLLLoss()\n",
    "lerning_rate = 0.005\n",
    "\n",
    "def train(category_tensor, line_tensor):\n",
    "    hidden = rnn.initHidden()\n",
    "\n",
    "    rnn.zero_grad()\n",
    "\n",
    "    for i in range(line_tensor.size()[0]):\n",
    "        output, hidden = rnn(line_tensor[i], hidden)\n",
    "\n",
    "    loss = criterion(output, category_tensor)\n",
    "    loss.backward()\n",
    "\n",
    "    for p in rnn.parameters():\n",
    "        p.data.add_(p.grad.data, alpha=-lerning_rate)\n",
    "\n",
    "    return output, loss.item()"
   ]
  },
  {
   "cell_type": "code",
   "execution_count": 13,
   "metadata": {},
   "outputs": [
    {
     "name": "stdout",
     "output_type": "stream",
     "text": [
      "5000 5% (0m 11s) 2.5395 Batty / English ✓\n",
      "10000 10% (0m 22s) 1.0896 Majewski / Polish ✓\n",
      "15000 15% (0m 33s) 2.1578 Machado / Japanese ✗ (Portuguese)\n",
      "20000 20% (0m 44s) 2.5466 Schlimme / Irish ✗ (German)\n",
      "25000 25% (0m 55s) 1.9459 Duncan / Irish ✗ (Scottish)\n",
      "30000 30% (1m 6s) 0.8080 Machado / Portuguese ✓\n",
      "35000 35% (1m 16s) 1.0138 Ho / Vietnamese ✗ (Korean)\n",
      "40000 40% (1m 26s) 1.3379 Jirku / Polish ✗ (Czech)\n",
      "45000 45% (1m 37s) 0.7637 Esser / German ✓\n",
      "50000 50% (1m 47s) 2.5547 Kocian / Polish ✗ (Czech)\n",
      "55000 55% (1m 57s) 0.0323 Gwozdek / Polish ✓\n",
      "60000 60% (2m 8s) 0.5461 Bilias / Greek ✓\n",
      "65000 65% (2m 18s) 0.1043 Yanishevsky / Russian ✓\n",
      "70000 70% (2m 28s) 4.0934 Haldoyanidi / Japanese ✗ (Russian)\n",
      "75000 75% (2m 39s) 6.3447 Bauer / Arabic ✗ (Russian)\n",
      "80000 80% (2m 50s) 0.4877 Chung / Korean ✓\n",
      "85000 85% (3m 0s) 0.0091 Takimoto / Japanese ✓\n",
      "90000 90% (3m 11s) 0.4695 Ryoo / Korean ✓\n",
      "95000 95% (3m 22s) 2.7242 Oliver / Dutch ✗ (French)\n",
      "100000 100% (3m 33s) 0.8489 Jumonji / Japanese ✓\n"
     ]
    }
   ],
   "source": [
    "import time\n",
    "import math\n",
    "\n",
    "n_iters = 100000\n",
    "print_every = 5000\n",
    "plot_every = 1000\n",
    "\n",
    "\n",
    "\n",
    "# Keep track of losses for plotting\n",
    "current_loss = 0\n",
    "all_losses = []\n",
    "\n",
    "def timeSince(since):\n",
    "    now = time.time()\n",
    "    s = now - since\n",
    "    m = math.floor(s / 60)\n",
    "    s -= m * 60\n",
    "    return '%dm %ds' % (m, s)\n",
    "\n",
    "start = time.time()\n",
    "\n",
    "for iter in range(1, n_iters + 1):\n",
    "    category, line, category_tensor, line_tensor = randomTrainingExample()\n",
    "    output, loss = train(category_tensor, line_tensor)\n",
    "    current_loss += loss\n",
    "\n",
    "    # Print ``iter`` number, loss, name and guess\n",
    "    if iter % print_every == 0:\n",
    "        guess, guess_i = categoryFromOutput(output)\n",
    "        correct = '✓' if guess == category else '✗ (%s)' % category\n",
    "        print('%d %d%% (%s) %.4f %s / %s %s' % (iter, iter / n_iters * 100, timeSince(start), loss, line, guess, correct))\n",
    "\n",
    "    # Add current loss avg to list of losses\n",
    "    if iter % plot_every == 0:\n",
    "        all_losses.append(current_loss / plot_every)\n",
    "        current_loss = 0"
   ]
  },
  {
   "cell_type": "code",
   "execution_count": 14,
   "metadata": {},
   "outputs": [
    {
     "data": {
      "text/plain": [
       "[<matplotlib.lines.Line2D at 0x1ba91433d30>]"
      ]
     },
     "execution_count": 14,
     "metadata": {},
     "output_type": "execute_result"
    },
    {
     "data": {
      "image/png": "[encoded data removed]",
      "text/plain": [
       "<Figure size 640x480 with 1 Axes>"
      ]
     },
     "metadata": {},
     "output_type": "display_data"
    }
   ],
   "source": [
    "import matplotlib.pyplot as plt\n",
    "import matplotlib.ticker as ticker\n",
    "\n",
    "plt.figure()\n",
    "plt.plot(all_losses)"
   ]
  }
 ],
 "metadata": {
  "kernelspec": {
   "display_name": "ds",
   "language": "python",
   "name": "python3"
  },
  "language_info": {
   "codemirror_mode": {
    "name": "ipython",
    "version": 3
   },
   "file_extension": ".py",
   "mimetype": "text/x-python",
   "name": "python",
   "nbconvert_exporter": "python",
   "pygments_lexer": "ipython3",
   "version": "3.10.11"
  },
  "orig_nbformat": 4
 },
 "nbformat": 4,
 "nbformat_minor": 2
}
