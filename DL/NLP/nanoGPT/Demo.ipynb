{
  "nbformat": 4,
  "nbformat_minor": 0,
  "metadata": {
    "colab": {
      "provenance": [],
      "gpuType": "T4"
    },
    "kernelspec": {
      "name": "python3",
      "display_name": "Python 3"
    },
    "language_info": {
      "name": "python"
    },
    "accelerator": "GPU",
    "widgets": {
      "application/vnd.jupyter.widget-state+json": {
        "a1128e47d3644bedb0c3db8fb4fe7bc9": {
          "model_module": "@jupyter-widgets/controls",
          "model_name": "HBoxModel",
          "model_module_version": "1.5.0",
          "state": {
            "_dom_classes": [],
            "_model_module": "@jupyter-widgets/controls",
            "_model_module_version": "1.5.0",
            "_model_name": "HBoxModel",
            "_view_count": null,
            "_view_module": "@jupyter-widgets/controls",
            "_view_module_version": "1.5.0",
            "_view_name": "HBoxView",
            "box_style": "",
            "children": [
              "IPY_MODEL_19b5bb43e27b476abe45e37daa0b78b1",
              "IPY_MODEL_5f42f918fdb54ae3940eaf3f05f2c4ed",
              "IPY_MODEL_58a464ea628e4578b486a74f744f375d"
            ],
            "layout": "IPY_MODEL_8f3f9a8399db426487d937afce36b4f2"
          }
        },
        "19b5bb43e27b476abe45e37daa0b78b1": {
          "model_module": "@jupyter-widgets/controls",
          "model_name": "HTMLModel",
          "model_module_version": "1.5.0",
          "state": {
            "_dom_classes": [],
            "_model_module": "@jupyter-widgets/controls",
            "_model_module_version": "1.5.0",
            "_model_name": "HTMLModel",
            "_view_count": null,
            "_view_module": "@jupyter-widgets/controls",
            "_view_module_version": "1.5.0",
            "_view_name": "HTMLView",
            "description": "",
            "description_tooltip": null,
            "layout": "IPY_MODEL_8b73c6cc3715418d9399103468ccad90",
            "placeholder": "​",
            "style": "IPY_MODEL_ce9528cbceab4860b0c4e8127ea5d5b0",
            "value": "100%"
          }
        },
        "5f42f918fdb54ae3940eaf3f05f2c4ed": {
          "model_module": "@jupyter-widgets/controls",
          "model_name": "FloatProgressModel",
          "model_module_version": "1.5.0",
          "state": {
            "_dom_classes": [],
            "_model_module": "@jupyter-widgets/controls",
            "_model_module_version": "1.5.0",
            "_model_name": "FloatProgressModel",
            "_view_count": null,
            "_view_module": "@jupyter-widgets/controls",
            "_view_module_version": "1.5.0",
            "_view_name": "ProgressView",
            "bar_style": "success",
            "description": "",
            "description_tooltip": null,
            "layout": "IPY_MODEL_44de0db1b0d64dc185c88772ba63fc79",
            "max": 10000,
            "min": 0,
            "orientation": "horizontal",
            "style": "IPY_MODEL_4509d51bf3fb4617b34b00d283a50682",
            "value": 10000
          }
        },
        "58a464ea628e4578b486a74f744f375d": {
          "model_module": "@jupyter-widgets/controls",
          "model_name": "HTMLModel",
          "model_module_version": "1.5.0",
          "state": {
            "_dom_classes": [],
            "_model_module": "@jupyter-widgets/controls",
            "_model_module_version": "1.5.0",
            "_model_name": "HTMLModel",
            "_view_count": null,
            "_view_module": "@jupyter-widgets/controls",
            "_view_module_version": "1.5.0",
            "_view_name": "HTMLView",
            "description": "",
            "description_tooltip": null,
            "layout": "IPY_MODEL_44780fe6c438431f9e0aa81f8b1825c2",
            "placeholder": "​",
            "style": "IPY_MODEL_361a263bee9040bca4fcde9eabcd7066",
            "value": " 10000/10000 [05:03&lt;00:00, 36.06it/s]"
          }
        },
        "8f3f9a8399db426487d937afce36b4f2": {
          "model_module": "@jupyter-widgets/base",
          "model_name": "LayoutModel",
          "model_module_version": "1.2.0",
          "state": {
            "_model_module": "@jupyter-widgets/base",
            "_model_module_version": "1.2.0",
            "_model_name": "LayoutModel",
            "_view_count": null,
            "_view_module": "@jupyter-widgets/base",
            "_view_module_version": "1.2.0",
            "_view_name": "LayoutView",
            "align_content": null,
            "align_items": null,
            "align_self": null,
            "border": null,
            "bottom": null,
            "display": null,
            "flex": null,
            "flex_flow": null,
            "grid_area": null,
            "grid_auto_columns": null,
            "grid_auto_flow": null,
            "grid_auto_rows": null,
            "grid_column": null,
            "grid_gap": null,
            "grid_row": null,
            "grid_template_areas": null,
            "grid_template_columns": null,
            "grid_template_rows": null,
            "height": null,
            "justify_content": null,
            "justify_items": null,
            "left": null,
            "margin": null,
            "max_height": null,
            "max_width": null,
            "min_height": null,
            "min_width": null,
            "object_fit": null,
            "object_position": null,
            "order": null,
            "overflow": null,
            "overflow_x": null,
            "overflow_y": null,
            "padding": null,
            "right": null,
            "top": null,
            "visibility": null,
            "width": null
          }
        },
        "8b73c6cc3715418d9399103468ccad90": {
          "model_module": "@jupyter-widgets/base",
          "model_name": "LayoutModel",
          "model_module_version": "1.2.0",
          "state": {
            "_model_module": "@jupyter-widgets/base",
            "_model_module_version": "1.2.0",
            "_model_name": "LayoutModel",
            "_view_count": null,
            "_view_module": "@jupyter-widgets/base",
            "_view_module_version": "1.2.0",
            "_view_name": "LayoutView",
            "align_content": null,
            "align_items": null,
            "align_self": null,
            "border": null,
            "bottom": null,
            "display": null,
            "flex": null,
            "flex_flow": null,
            "grid_area": null,
            "grid_auto_columns": null,
            "grid_auto_flow": null,
            "grid_auto_rows": null,
            "grid_column": null,
            "grid_gap": null,
            "grid_row": null,
            "grid_template_areas": null,
            "grid_template_columns": null,
            "grid_template_rows": null,
            "height": null,
            "justify_content": null,
            "justify_items": null,
            "left": null,
            "margin": null,
            "max_height": null,
            "max_width": null,
            "min_height": null,
            "min_width": null,
            "object_fit": null,
            "object_position": null,
            "order": null,
            "overflow": null,
            "overflow_x": null,
            "overflow_y": null,
            "padding": null,
            "right": null,
            "top": null,
            "visibility": null,
            "width": null
          }
        },
        "ce9528cbceab4860b0c4e8127ea5d5b0": {
          "model_module": "@jupyter-widgets/controls",
          "model_name": "DescriptionStyleModel",
          "model_module_version": "1.5.0",
          "state": {
            "_model_module": "@jupyter-widgets/controls",
            "_model_module_version": "1.5.0",
            "_model_name": "DescriptionStyleModel",
            "_view_count": null,
            "_view_module": "@jupyter-widgets/base",
            "_view_module_version": "1.2.0",
            "_view_name": "StyleView",
            "description_width": ""
          }
        },
        "44de0db1b0d64dc185c88772ba63fc79": {
          "model_module": "@jupyter-widgets/base",
          "model_name": "LayoutModel",
          "model_module_version": "1.2.0",
          "state": {
            "_model_module": "@jupyter-widgets/base",
            "_model_module_version": "1.2.0",
            "_model_name": "LayoutModel",
            "_view_count": null,
            "_view_module": "@jupyter-widgets/base",
            "_view_module_version": "1.2.0",
            "_view_name": "LayoutView",
            "align_content": null,
            "align_items": null,
            "align_self": null,
            "border": null,
            "bottom": null,
            "display": null,
            "flex": null,
            "flex_flow": null,
            "grid_area": null,
            "grid_auto_columns": null,
            "grid_auto_flow": null,
            "grid_auto_rows": null,
            "grid_column": null,
            "grid_gap": null,
            "grid_row": null,
            "grid_template_areas": null,
            "grid_template_columns": null,
            "grid_template_rows": null,
            "height": null,
            "justify_content": null,
            "justify_items": null,
            "left": null,
            "margin": null,
            "max_height": null,
            "max_width": null,
            "min_height": null,
            "min_width": null,
            "object_fit": null,
            "object_position": null,
            "order": null,
            "overflow": null,
            "overflow_x": null,
            "overflow_y": null,
            "padding": null,
            "right": null,
            "top": null,
            "visibility": null,
            "width": null
          }
        },
        "4509d51bf3fb4617b34b00d283a50682": {
          "model_module": "@jupyter-widgets/controls",
          "model_name": "ProgressStyleModel",
          "model_module_version": "1.5.0",
          "state": {
            "_model_module": "@jupyter-widgets/controls",
            "_model_module_version": "1.5.0",
            "_model_name": "ProgressStyleModel",
            "_view_count": null,
            "_view_module": "@jupyter-widgets/base",
            "_view_module_version": "1.2.0",
            "_view_name": "StyleView",
            "bar_color": null,
            "description_width": ""
          }
        },
        "44780fe6c438431f9e0aa81f8b1825c2": {
          "model_module": "@jupyter-widgets/base",
          "model_name": "LayoutModel",
          "model_module_version": "1.2.0",
          "state": {
            "_model_module": "@jupyter-widgets/base",
            "_model_module_version": "1.2.0",
            "_model_name": "LayoutModel",
            "_view_count": null,
            "_view_module": "@jupyter-widgets/base",
            "_view_module_version": "1.2.0",
            "_view_name": "LayoutView",
            "align_content": null,
            "align_items": null,
            "align_self": null,
            "border": null,
            "bottom": null,
            "display": null,
            "flex": null,
            "flex_flow": null,
            "grid_area": null,
            "grid_auto_columns": null,
            "grid_auto_flow": null,
            "grid_auto_rows": null,
            "grid_column": null,
            "grid_gap": null,
            "grid_row": null,
            "grid_template_areas": null,
            "grid_template_columns": null,
            "grid_template_rows": null,
            "height": null,
            "justify_content": null,
            "justify_items": null,
            "left": null,
            "margin": null,
            "max_height": null,
            "max_width": null,
            "min_height": null,
            "min_width": null,
            "object_fit": null,
            "object_position": null,
            "order": null,
            "overflow": null,
            "overflow_x": null,
            "overflow_y": null,
            "padding": null,
            "right": null,
            "top": null,
            "visibility": null,
            "width": null
          }
        },
        "361a263bee9040bca4fcde9eabcd7066": {
          "model_module": "@jupyter-widgets/controls",
          "model_name": "DescriptionStyleModel",
          "model_module_version": "1.5.0",
          "state": {
            "_model_module": "@jupyter-widgets/controls",
            "_model_module_version": "1.5.0",
            "_model_name": "DescriptionStyleModel",
            "_view_count": null,
            "_view_module": "@jupyter-widgets/base",
            "_view_module_version": "1.2.0",
            "_view_name": "StyleView",
            "description_width": ""
          }
        },
        "b12b9319c0264b9dbc39003c7433be5a": {
          "model_module": "@jupyter-widgets/controls",
          "model_name": "HBoxModel",
          "model_module_version": "1.5.0",
          "state": {
            "_dom_classes": [],
            "_model_module": "@jupyter-widgets/controls",
            "_model_module_version": "1.5.0",
            "_model_name": "HBoxModel",
            "_view_count": null,
            "_view_module": "@jupyter-widgets/controls",
            "_view_module_version": "1.5.0",
            "_view_name": "HBoxView",
            "box_style": "",
            "children": [
              "IPY_MODEL_8b4b1943223644a798525dd8205351c4",
              "IPY_MODEL_759b61aca0c24c8f926d7eb92f80b696",
              "IPY_MODEL_0c5ddf98f5de459da0dbcdac900c2ddf"
            ],
            "layout": "IPY_MODEL_18ab350549794f14b97f252ddc763797"
          }
        },
        "8b4b1943223644a798525dd8205351c4": {
          "model_module": "@jupyter-widgets/controls",
          "model_name": "HTMLModel",
          "model_module_version": "1.5.0",
          "state": {
            "_dom_classes": [],
            "_model_module": "@jupyter-widgets/controls",
            "_model_module_version": "1.5.0",
            "_model_name": "HTMLModel",
            "_view_count": null,
            "_view_module": "@jupyter-widgets/controls",
            "_view_module_version": "1.5.0",
            "_view_name": "HTMLView",
            "description": "",
            "description_tooltip": null,
            "layout": "IPY_MODEL_528c031831e84b5eba5df31e4ac76e83",
            "placeholder": "​",
            "style": "IPY_MODEL_7adabb0fdad842e0937d8bb550fe280c",
            "value": "100%"
          }
        },
        "759b61aca0c24c8f926d7eb92f80b696": {
          "model_module": "@jupyter-widgets/controls",
          "model_name": "FloatProgressModel",
          "model_module_version": "1.5.0",
          "state": {
            "_dom_classes": [],
            "_model_module": "@jupyter-widgets/controls",
            "_model_module_version": "1.5.0",
            "_model_name": "FloatProgressModel",
            "_view_count": null,
            "_view_module": "@jupyter-widgets/controls",
            "_view_module_version": "1.5.0",
            "_view_name": "ProgressView",
            "bar_style": "success",
            "description": "",
            "description_tooltip": null,
            "layout": "IPY_MODEL_d77d33fba7ce461fbdc69fd68faa5118",
            "max": 5000,
            "min": 0,
            "orientation": "horizontal",
            "style": "IPY_MODEL_e6b870d6c16540378ae4adf282320773",
            "value": 5000
          }
        },
        "0c5ddf98f5de459da0dbcdac900c2ddf": {
          "model_module": "@jupyter-widgets/controls",
          "model_name": "HTMLModel",
          "model_module_version": "1.5.0",
          "state": {
            "_dom_classes": [],
            "_model_module": "@jupyter-widgets/controls",
            "_model_module_version": "1.5.0",
            "_model_name": "HTMLModel",
            "_view_count": null,
            "_view_module": "@jupyter-widgets/controls",
            "_view_module_version": "1.5.0",
            "_view_name": "HTMLView",
            "description": "",
            "description_tooltip": null,
            "layout": "IPY_MODEL_ecc69acf8f7843638b84e162fb3208d7",
            "placeholder": "​",
            "style": "IPY_MODEL_84c3685ba9a84d7ba3e06d5d116de01c",
            "value": " 5000/5000 [00:40&lt;00:00, 127.03it/s]"
          }
        },
        "18ab350549794f14b97f252ddc763797": {
          "model_module": "@jupyter-widgets/base",
          "model_name": "LayoutModel",
          "model_module_version": "1.2.0",
          "state": {
            "_model_module": "@jupyter-widgets/base",
            "_model_module_version": "1.2.0",
            "_model_name": "LayoutModel",
            "_view_count": null,
            "_view_module": "@jupyter-widgets/base",
            "_view_module_version": "1.2.0",
            "_view_name": "LayoutView",
            "align_content": null,
            "align_items": null,
            "align_self": null,
            "border": null,
            "bottom": null,
            "display": null,
            "flex": null,
            "flex_flow": null,
            "grid_area": null,
            "grid_auto_columns": null,
            "grid_auto_flow": null,
            "grid_auto_rows": null,
            "grid_column": null,
            "grid_gap": null,
            "grid_row": null,
            "grid_template_areas": null,
            "grid_template_columns": null,
            "grid_template_rows": null,
            "height": null,
            "justify_content": null,
            "justify_items": null,
            "left": null,
            "margin": null,
            "max_height": null,
            "max_width": null,
            "min_height": null,
            "min_width": null,
            "object_fit": null,
            "object_position": null,
            "order": null,
            "overflow": null,
            "overflow_x": null,
            "overflow_y": null,
            "padding": null,
            "right": null,
            "top": null,
            "visibility": null,
            "width": null
          }
        },
        "528c031831e84b5eba5df31e4ac76e83": {
          "model_module": "@jupyter-widgets/base",
          "model_name": "LayoutModel",
          "model_module_version": "1.2.0",
          "state": {
            "_model_module": "@jupyter-widgets/base",
            "_model_module_version": "1.2.0",
            "_model_name": "LayoutModel",
            "_view_count": null,
            "_view_module": "@jupyter-widgets/base",
            "_view_module_version": "1.2.0",
            "_view_name": "LayoutView",
            "align_content": null,
            "align_items": null,
            "align_self": null,
            "border": null,
            "bottom": null,
            "display": null,
            "flex": null,
            "flex_flow": null,
            "grid_area": null,
            "grid_auto_columns": null,
            "grid_auto_flow": null,
            "grid_auto_rows": null,
            "grid_column": null,
            "grid_gap": null,
            "grid_row": null,
            "grid_template_areas": null,
            "grid_template_columns": null,
            "grid_template_rows": null,
            "height": null,
            "justify_content": null,
            "justify_items": null,
            "left": null,
            "margin": null,
            "max_height": null,
            "max_width": null,
            "min_height": null,
            "min_width": null,
            "object_fit": null,
            "object_position": null,
            "order": null,
            "overflow": null,
            "overflow_x": null,
            "overflow_y": null,
            "padding": null,
            "right": null,
            "top": null,
            "visibility": null,
            "width": null
          }
        },
        "7adabb0fdad842e0937d8bb550fe280c": {
          "model_module": "@jupyter-widgets/controls",
          "model_name": "DescriptionStyleModel",
          "model_module_version": "1.5.0",
          "state": {
            "_model_module": "@jupyter-widgets/controls",
            "_model_module_version": "1.5.0",
            "_model_name": "DescriptionStyleModel",
            "_view_count": null,
            "_view_module": "@jupyter-widgets/base",
            "_view_module_version": "1.2.0",
            "_view_name": "StyleView",
            "description_width": ""
          }
        },
        "d77d33fba7ce461fbdc69fd68faa5118": {
          "model_module": "@jupyter-widgets/base",
          "model_name": "LayoutModel",
          "model_module_version": "1.2.0",
          "state": {
            "_model_module": "@jupyter-widgets/base",
            "_model_module_version": "1.2.0",
            "_model_name": "LayoutModel",
            "_view_count": null,
            "_view_module": "@jupyter-widgets/base",
            "_view_module_version": "1.2.0",
            "_view_name": "LayoutView",
            "align_content": null,
            "align_items": null,
            "align_self": null,
            "border": null,
            "bottom": null,
            "display": null,
            "flex": null,
            "flex_flow": null,
            "grid_area": null,
            "grid_auto_columns": null,
            "grid_auto_flow": null,
            "grid_auto_rows": null,
            "grid_column": null,
            "grid_gap": null,
            "grid_row": null,
            "grid_template_areas": null,
            "grid_template_columns": null,
            "grid_template_rows": null,
            "height": null,
            "justify_content": null,
            "justify_items": null,
            "left": null,
            "margin": null,
            "max_height": null,
            "max_width": null,
            "min_height": null,
            "min_width": null,
            "object_fit": null,
            "object_position": null,
            "order": null,
            "overflow": null,
            "overflow_x": null,
            "overflow_y": null,
            "padding": null,
            "right": null,
            "top": null,
            "visibility": null,
            "width": null
          }
        },
        "e6b870d6c16540378ae4adf282320773": {
          "model_module": "@jupyter-widgets/controls",
          "model_name": "ProgressStyleModel",
          "model_module_version": "1.5.0",
          "state": {
            "_model_module": "@jupyter-widgets/controls",
            "_model_module_version": "1.5.0",
            "_model_name": "ProgressStyleModel",
            "_view_count": null,
            "_view_module": "@jupyter-widgets/base",
            "_view_module_version": "1.2.0",
            "_view_name": "StyleView",
            "bar_color": null,
            "description_width": ""
          }
        },
        "ecc69acf8f7843638b84e162fb3208d7": {
          "model_module": "@jupyter-widgets/base",
          "model_name": "LayoutModel",
          "model_module_version": "1.2.0",
          "state": {
            "_model_module": "@jupyter-widgets/base",
            "_model_module_version": "1.2.0",
            "_model_name": "LayoutModel",
            "_view_count": null,
            "_view_module": "@jupyter-widgets/base",
            "_view_module_version": "1.2.0",
            "_view_name": "LayoutView",
            "align_content": null,
            "align_items": null,
            "align_self": null,
            "border": null,
            "bottom": null,
            "display": null,
            "flex": null,
            "flex_flow": null,
            "grid_area": null,
            "grid_auto_columns": null,
            "grid_auto_flow": null,
            "grid_auto_rows": null,
            "grid_column": null,
            "grid_gap": null,
            "grid_row": null,
            "grid_template_areas": null,
            "grid_template_columns": null,
            "grid_template_rows": null,
            "height": null,
            "justify_content": null,
            "justify_items": null,
            "left": null,
            "margin": null,
            "max_height": null,
            "max_width": null,
            "min_height": null,
            "min_width": null,
            "object_fit": null,
            "object_position": null,
            "order": null,
            "overflow": null,
            "overflow_x": null,
            "overflow_y": null,
            "padding": null,
            "right": null,
            "top": null,
            "visibility": null,
            "width": null
          }
        },
        "84c3685ba9a84d7ba3e06d5d116de01c": {
          "model_module": "@jupyter-widgets/controls",
          "model_name": "DescriptionStyleModel",
          "model_module_version": "1.5.0",
          "state": {
            "_model_module": "@jupyter-widgets/controls",
            "_model_module_version": "1.5.0",
            "_model_name": "DescriptionStyleModel",
            "_view_count": null,
            "_view_module": "@jupyter-widgets/base",
            "_view_module_version": "1.2.0",
            "_view_name": "StyleView",
            "description_width": ""
          }
        }
      }
    }
  },
  "cells": [
    {
      "cell_type": "code",
      "execution_count": 1,
      "metadata": {
        "colab": {
          "base_uri": "https://localhost:8080/"
        },
        "id": "n0xszimzBFeO",
        "outputId": "9268b6d8-4d64-4065-d083-1027ab09d3b3"
      },
      "outputs": [
        {
          "output_type": "stream",
          "name": "stdout",
          "text": [
            "--2023-09-20 01:42:25--  https://raw.githubusercontent.com/karpathy/char-rnn/master/data/tinyshakespeare/input.txt\n",
            "Resolving raw.githubusercontent.com (raw.githubusercontent.com)... 185.199.109.133, 185.199.110.133, 185.199.111.133, ...\n",
            "Connecting to raw.githubusercontent.com (raw.githubusercontent.com)|185.199.109.133|:443... connected.\n",
            "HTTP request sent, awaiting response... 200 OK\n",
            "Length: 1115394 (1.1M) [text/plain]\n",
            "Saving to: ‘input.txt’\n",
            "\n",
            "\rinput.txt             0%[                    ]       0  --.-KB/s               \rinput.txt           100%[===================>]   1.06M  --.-KB/s    in 0.02s   \n",
            "\n",
            "2023-09-20 01:42:25 (56.5 MB/s) - ‘input.txt’ saved [1115394/1115394]\n",
            "\n"
          ]
        }
      ],
      "source": [
        "!wget https://raw.githubusercontent.com/karpathy/char-rnn/master/data/tinyshakespeare/input.txt"
      ]
    },
    {
      "cell_type": "code",
      "source": [
        "# read it in to inspect it\n",
        "with open('input.txt', 'r', encoding='utf-8') as f:\n",
        "    text = f.read()"
      ],
      "metadata": {
        "id": "Ry86U7dKBIQQ"
      },
      "execution_count": 2,
      "outputs": []
    },
    {
      "cell_type": "code",
      "source": [
        "vocab = sorted(list(set(text)))\n",
        "vocab_size = len(vocab)"
      ],
      "metadata": {
        "id": "dAtSwIQ7BIU8"
      },
      "execution_count": null,
      "outputs": []
    },
    {
      "cell_type": "code",
      "source": [
        "stoi = {ch: i for i, ch in enumerate(vocab)}\n",
        "itos = {i: ch for ch, i in stoi.items()}\n",
        "len(stoi), len(itos)"
      ],
      "metadata": {
        "colab": {
          "base_uri": "https://localhost:8080/"
        },
        "id": "tqE_HlkkBIY1",
        "outputId": "81a97aad-90e0-4f9e-8041-1c2980933d8b"
      },
      "execution_count": null,
      "outputs": [
        {
          "output_type": "execute_result",
          "data": {
            "text/plain": [
              "(65, 65)"
            ]
          },
          "metadata": {},
          "execution_count": 4
        }
      ]
    },
    {
      "cell_type": "code",
      "source": [
        "encode = lambda x: [stoi[ch] for ch in x]\n",
        "decode = lambda x: ''.join([itos[ch] for ch in x])\n",
        "out = encode(\"hi\")\n",
        "out, decode(out)"
      ],
      "metadata": {
        "colab": {
          "base_uri": "https://localhost:8080/"
        },
        "id": "ULDQ4ap5BIck",
        "outputId": "a662854f-b3ad-4663-8b47-e812c2740726"
      },
      "execution_count": null,
      "outputs": [
        {
          "output_type": "execute_result",
          "data": {
            "text/plain": [
              "([46, 47], 'hi')"
            ]
          },
          "metadata": {},
          "execution_count": 5
        }
      ]
    },
    {
      "cell_type": "code",
      "source": [
        "import torch\n",
        "import torch.nn as nn\n",
        "import torch.nn.functional as F"
      ],
      "metadata": {
        "id": "z2ZjgIUnBIgT"
      },
      "execution_count": null,
      "outputs": []
    },
    {
      "cell_type": "code",
      "source": [
        "data = torch.tensor(encode(text), dtype=torch.long)\n",
        "data.shape"
      ],
      "metadata": {
        "colab": {
          "base_uri": "https://localhost:8080/"
        },
        "id": "Ajje_J0XBIkB",
        "outputId": "61b98f5e-2215-4178-98d5-254f761baa0e"
      },
      "execution_count": null,
      "outputs": [
        {
          "output_type": "execute_result",
          "data": {
            "text/plain": [
              "torch.Size([1115394])"
            ]
          },
          "metadata": {},
          "execution_count": 7
        }
      ]
    },
    {
      "cell_type": "code",
      "source": [
        "n = int(0.9 * len(data))\n",
        "train_data = data[:n]\n",
        "val_data = data[n:]"
      ],
      "metadata": {
        "id": "fu5DTisYBInn"
      },
      "execution_count": null,
      "outputs": []
    },
    {
      "cell_type": "code",
      "source": [
        "torch.manual_seed(342)\n",
        "batch_size = 4\n",
        "block_size = 8\n",
        "\n",
        "def get_batch(split, batch_size=4, block_size=8):\n",
        "  '''\n",
        "  Returns a batch of inputs and outputs for specified split\n",
        "  '''\n",
        "  data = train_data if split == \"train\" else val_data\n",
        "  indexes = torch.randint(len(data)-block_size, (batch_size, ))\n",
        "  x = torch.stack([data[ix:ix+block_size] for ix in indexes])\n",
        "  y = torch.stack([data[ix+1:ix+block_size+1] for ix in indexes])\n",
        "  return x, y\n",
        "\n",
        "xb, yb = get_batch(\"train\")\n",
        "print(xb.shape, yb.shape)\n",
        "xb, yb"
      ],
      "metadata": {
        "colab": {
          "base_uri": "https://localhost:8080/"
        },
        "id": "ITY-NSoQBIrj",
        "outputId": "76814810-4656-43f3-bb3b-1b0771f02537"
      },
      "execution_count": null,
      "outputs": [
        {
          "output_type": "stream",
          "name": "stdout",
          "text": [
            "torch.Size([4, 8]) torch.Size([4, 8])\n"
          ]
        },
        {
          "output_type": "execute_result",
          "data": {
            "text/plain": [
              "(tensor([[ 1, 57, 59, 47, 58, 10,  0, 13],\n",
              "         [61, 43,  1, 57, 46, 39, 50, 50],\n",
              "         [ 1, 51, 53, 56, 43,  1, 41, 39],\n",
              "         [57, 58, 43, 56,  6,  1, 58, 43]]),\n",
              " tensor([[57, 59, 47, 58, 10,  0, 13, 52],\n",
              "         [43,  1, 57, 46, 39, 50, 50,  1],\n",
              "         [51, 53, 56, 43,  1, 41, 39, 59],\n",
              "         [58, 43, 56,  6,  1, 58, 43, 50]]))"
            ]
          },
          "metadata": {},
          "execution_count": 9
        }
      ]
    },
    {
      "cell_type": "code",
      "source": [
        "class BiagramLanguageModel(nn.Module):\n",
        "  def __init__(self):\n",
        "    super().__init__()\n",
        "    self.token_embedding_table = nn.Embedding(vocab_size, vocab_size)\n",
        "\n",
        "  def forward(self, x, targets=None):\n",
        "    '''\n",
        "    Forwards the network\n",
        "    Returns loss if target is specified.\n",
        "\n",
        "    Args:\n",
        "      x: input tensor of shape (B, T)\n",
        "      target: Output of shape (B, T)\n",
        "    '''\n",
        "    logits = self.token_embedding_table(x) # (B, T, C)\n",
        "    if targets is None:\n",
        "      loss = None\n",
        "    else:\n",
        "      B, T, C = logits.shape\n",
        "      logits = logits.view(B*T, C)\n",
        "      targets = targets.view(B*T)\n",
        "      loss = F.cross_entropy(logits, targets)\n",
        "    return logits, loss\n",
        "\n",
        "  def generate(self, x, max_length=10):\n",
        "    '''\n",
        "    Generates sequence of characters using model given input\n",
        "    Args:\n",
        "      x: input of shape (B, T)\n",
        "      max_length: length of the output tokens\n",
        "    '''\n",
        "    for i in range(max_length):\n",
        "      logits, loss = self.forward(x) # (B, T, C), (1)\n",
        "      logits = logits[:, -1, :] # (B, C)\n",
        "      probs = F.softmax(logits, dim=-1) # We want probs for multinomial to work\n",
        "      pred = torch.multinomial(probs, num_samples=1) # (B, 1)\n",
        "      x = torch.cat((x, pred), dim=1)\n",
        "    return x\n",
        "\n",
        "\n",
        "torch.manual_seed(234)\n",
        "model = BiagramLanguageModel()\n",
        "xb, yb = get_batch(\"train\")\n",
        "# logits, loss = model(xb, yb)\n",
        "# print(logits.shape)\n",
        "# print(loss)\n",
        "\n",
        "temp = torch.zeros((1, 1), dtype=torch.long)\n",
        "out = model.generate(temp) # (B, max_length)\n",
        "decode(out[0].tolist())\n"
      ],
      "metadata": {
        "colab": {
          "base_uri": "https://localhost:8080/",
          "height": 35
        },
        "id": "XggE4clKBIvF",
        "outputId": "71e8d73e-ee21-4b3c-b1bd-443d9aebccc3"
      },
      "execution_count": null,
      "outputs": [
        {
          "output_type": "execute_result",
          "data": {
            "text/plain": [
              "'\\nD$-KaygvCj'"
            ],
            "application/vnd.google.colaboratory.intrinsic+json": {
              "type": "string"
            }
          },
          "metadata": {},
          "execution_count": 10
        }
      ]
    },
    {
      "cell_type": "code",
      "source": [
        "import time\n",
        "\n",
        "def calculate_time(func):\n",
        "  def w(*args, **kwargs):\n",
        "    start = time.time()\n",
        "    func(*args, **kwargs)\n",
        "    end = time.time()\n",
        "    print(f'Time take: {(end - start):.5f}')\n",
        "  return w"
      ],
      "metadata": {
        "id": "sZxCUgvSLadm"
      },
      "execution_count": null,
      "outputs": []
    },
    {
      "cell_type": "code",
      "source": [
        "from tqdm.auto import tqdm\n",
        "import matplotlib.pyplot as plt\n",
        "\n",
        "device = \"cuda\" if torch.cuda.is_available() else \"cpu\"\n",
        "model = BiagramLanguageModel().to(device)\n",
        "optimizer = torch.optim.AdamW(model.parameters(), lr=1e-3)\n",
        "\n",
        "# Simple training\n",
        "batch_size = 1024\n",
        "epochs = 100_00\n",
        "losses = []\n",
        "for i in tqdm(range(epochs)):\n",
        "  xb, yb = get_batch(\"train\", batch_size=batch_size)\n",
        "  xb, yb = xb.to(device), yb.to(device)\n",
        "\n",
        "  logits, loss = model(xb, yb)\n",
        "\n",
        "  optimizer.zero_grad()\n",
        "  loss.backward()\n",
        "  optimizer.step()\n",
        "\n",
        "  # stats\n",
        "  losses.append(loss.item())\n",
        "  if i%1000 == 0:\n",
        "    print(loss.item())\n",
        "\n",
        "plt.plot(range(len(losses)), losses)\n",
        "\n"
      ],
      "metadata": {
        "colab": {
          "base_uri": "https://localhost:8080/",
          "height": 653,
          "referenced_widgets": [
            "a1128e47d3644bedb0c3db8fb4fe7bc9",
            "19b5bb43e27b476abe45e37daa0b78b1",
            "5f42f918fdb54ae3940eaf3f05f2c4ed",
            "58a464ea628e4578b486a74f744f375d",
            "8f3f9a8399db426487d937afce36b4f2",
            "8b73c6cc3715418d9399103468ccad90",
            "ce9528cbceab4860b0c4e8127ea5d5b0",
            "44de0db1b0d64dc185c88772ba63fc79",
            "4509d51bf3fb4617b34b00d283a50682",
            "44780fe6c438431f9e0aa81f8b1825c2",
            "361a263bee9040bca4fcde9eabcd7066"
          ]
        },
        "id": "xVS1jxPnBIzY",
        "outputId": "0328e1e3-3999-49c5-8b28-1db993c3152d"
      },
      "execution_count": null,
      "outputs": [
        {
          "output_type": "display_data",
          "data": {
            "text/plain": [
              "  0%|          | 0/10000 [00:00<?, ?it/s]"
            ],
            "application/vnd.jupyter.widget-view+json": {
              "version_major": 2,
              "version_minor": 0,
              "model_id": "a1128e47d3644bedb0c3db8fb4fe7bc9"
            }
          },
          "metadata": {}
        },
        {
          "output_type": "stream",
          "name": "stdout",
          "text": [
            "4.716723918914795\n",
            "3.5310568809509277\n",
            "2.8968346118927\n",
            "2.6393890380859375\n",
            "2.5491580963134766\n",
            "2.4921469688415527\n",
            "2.4711904525756836\n",
            "2.4620399475097656\n",
            "2.442924737930298\n",
            "2.4669454097747803\n"
          ]
        },
        {
          "output_type": "execute_result",
          "data": {
            "text/plain": [
              "[<matplotlib.lines.Line2D at 0x7a332416f310>]"
            ]
          },
          "metadata": {},
          "execution_count": 12
        },
        {
          "output_type": "display_data",
          "data": {
            "text/plain": [
              "<Figure size 640x480 with 1 Axes>"
            ],
            "image/png": "[encoded data removed]"
          },
          "metadata": {}
        }
      ]
    },
    {
      "cell_type": "code",
      "source": [
        "temp = torch.zeros((1, 1), dtype=torch.long).to(device)\n",
        "out = model.generate(temp) # (B, max_length)\n",
        "decode(out[0].tolist())\n"
      ],
      "metadata": {
        "colab": {
          "base_uri": "https://localhost:8080/",
          "height": 35
        },
        "id": "adDfwQRCBI23",
        "outputId": "729b9c85-0b46-48c5-da2e-c68b6cbaefdb"
      },
      "execution_count": null,
      "outputs": [
        {
          "output_type": "execute_result",
          "data": {
            "text/plain": [
              "'\\nmout supom'"
            ],
            "application/vnd.google.colaboratory.intrinsic+json": {
              "type": "string"
            }
          },
          "metadata": {},
          "execution_count": 13
        }
      ]
    },
    {
      "cell_type": "code",
      "source": [
        "a = torch.tril(torch.ones(3, 3))\n",
        "w = a.masked_fill(a == 0, float(\"-inf\"))\n",
        "a, w, F.softmax(w, dim=1)"
      ],
      "metadata": {
        "colab": {
          "base_uri": "https://localhost:8080/"
        },
        "id": "_ddsd5noBI69",
        "outputId": "045366c4-37bb-41f4-d978-bae66edc84e4"
      },
      "execution_count": null,
      "outputs": [
        {
          "output_type": "execute_result",
          "data": {
            "text/plain": [
              "(tensor([[1., 0., 0.],\n",
              "         [1., 1., 0.],\n",
              "         [1., 1., 1.]]),\n",
              " tensor([[1., -inf, -inf],\n",
              "         [1., 1., -inf],\n",
              "         [1., 1., 1.]]),\n",
              " tensor([[1.0000, 0.0000, 0.0000],\n",
              "         [0.5000, 0.5000, 0.0000],\n",
              "         [0.3333, 0.3333, 0.3333]]))"
            ]
          },
          "metadata": {},
          "execution_count": 14
        }
      ]
    },
    {
      "cell_type": "markdown",
      "source": [
        "# Self-attention for single head"
      ],
      "metadata": {
        "id": "r0IOndWSCmOd"
      }
    },
    {
      "cell_type": "code",
      "source": [
        "torch.manual_seed(1324)\n",
        "BLOCK_SIZE = 8\n",
        "BATCH_SIZE = 4\n",
        "HEAD_SIZE = 16\n",
        "xb, yb = get_batch(\"train\", block_size=BLOCK_SIZE, batch_size=BATCH_SIZE)\n",
        "xb, yb # (B, T)\n",
        "\n",
        "B, T = xb.shape\n",
        "C = 32 # This is our embd dimension (just using random value here for now)\n",
        "\n",
        "x = torch.randn((B, T, C))\n",
        "key = nn.Linear(C, HEAD_SIZE, bias=False)\n",
        "value = nn.Linear(C, HEAD_SIZE, bias=False)\n",
        "query = nn.Linear(C, HEAD_SIZE, bias=False)\n",
        "k = key(x) # B, T, HEAD_SIZE\n",
        "q = query(x) # B, T, HEAD_SIZE\n",
        "v = value(x) # B, T, HEAD_SIZE\n",
        "\n",
        "w = q @ k.transpose(-1, -2) # (B, T, HEAD_SIZE) @ (B, T, HEAD_SIZE) -> (B, T, T)\n",
        "B, T, T = w.shape\n",
        "tril = torch.tril(torch.ones(T, T))\n",
        "w = w.masked_fill(tril == 0, float('-inf'))\n",
        "w = F.softmax(w, dim=-1)\n",
        "\n",
        "\n",
        "out = w @ v # (B, T, T) @ (B, T, HEAD_SIZE) -> (B, T, HEAD_SIZE)\n",
        "\n",
        "\n",
        "\n"
      ],
      "metadata": {
        "id": "bu4xEqV9BI-3"
      },
      "execution_count": null,
      "outputs": []
    },
    {
      "cell_type": "markdown",
      "source": [
        "## Full code"
      ],
      "metadata": {
        "id": "F_zzby4eBJCf"
      }
    },
    {
      "cell_type": "code",
      "source": [
        "import torch\n",
        "import torch.nn as nn\n",
        "from torch.nn import functional as F\n",
        "\n",
        "# hyperparameters\n",
        "batch_size = 16\n",
        "block_size = 32\n",
        "max_iters = 5000\n",
        "eval_interval = 100\n",
        "learning_rate = 1e-3\n",
        "device = 'cuda' if torch.cuda.is_available() else 'cpu'\n",
        "eval_iters = 200\n",
        "n_embd = 64\n",
        "n_head = 4\n",
        "n_layer = 4\n",
        "dropout = 0.0\n",
        "\n",
        "\n",
        "torch.manual_seed(1337)\n",
        "\n",
        "# wget https://raw.githubusercontent.com/karpathy/char-rnn/master/data/tinyshakespeare/input.txt\n",
        "with open('input.txt', 'r', encoding='utf-8') as f:\n",
        "    text = f.read()\n",
        "\n",
        "\n",
        "chars = sorted(list(set(text)))\n",
        "vocab_size = len(chars)\n",
        "\n",
        "# Mappings\n",
        "stoi = { ch:i for i,ch in enumerate(chars) }\n",
        "itos = { i:ch for i,ch in enumerate(chars) }\n",
        "encode = lambda s: [stoi[c] for c in s]\n",
        "decode = lambda l: ''.join([itos[i] for i in l])\n",
        "\n",
        "\n",
        "# Train and test splits\n",
        "data = torch.tensor(encode(text), dtype=torch.long)\n",
        "n = int(0.9*len(data)) # first 90% will be train, rest val\n",
        "train_data = data[:n]\n",
        "val_data = data[n:]\n",
        "\n",
        "# data loading\n",
        "def get_batch(split):\n",
        "    # generate a small batch of data of inputs x and targets y\n",
        "    data = train_data if split == 'train' else val_data\n",
        "    ix = torch.randint(len(data) - block_size, (batch_size,))\n",
        "    x = torch.stack([data[i:i+block_size] for i in ix])\n",
        "    y = torch.stack([data[i+1:i+block_size+1] for i in ix])\n",
        "    x, y = x.to(device), y.to(device)\n",
        "    return x, y\n",
        "\n",
        "@torch.no_grad()\n",
        "def estimate_loss():\n",
        "    out = {}\n",
        "    model.eval()\n",
        "    for split in ['train', 'val']:\n",
        "        losses = torch.zeros(eval_iters)\n",
        "        for k in range(eval_iters):\n",
        "            X, Y = get_batch(split)\n",
        "            logits, loss = model(X, Y)\n",
        "            losses[k] = loss.item()\n",
        "        out[split] = losses.mean()\n",
        "    model.train()\n",
        "    return out"
      ],
      "metadata": {
        "id": "RbFR7KbgBJGv"
      },
      "execution_count": 3,
      "outputs": []
    },
    {
      "cell_type": "code",
      "source": [
        "class SelfAttention(nn.Module):\n",
        "  def __init__(self, head_size):\n",
        "    \"\"\"\n",
        "    Implementation of self attention\n",
        "\n",
        "    NOTE: This should only be used with MultiHeadAttention cause It doesn't return the same shape as input\n",
        "    \"\"\"\n",
        "\n",
        "    super().__init__()\n",
        "    self.k = nn.Linear(n_embd, head_size)\n",
        "    self.q = nn.Linear(n_embd, head_size)\n",
        "    self.v = nn.Linear(n_embd, head_size)\n",
        "\n",
        "    # used when we want it to be stored in state_dict but not trainable, can access using self.tril\n",
        "    self.register_buffer(\"tril\", torch.tril(\n",
        "            torch.ones(block_size, block_size)))\n",
        "\n",
        "    self.dropout = nn.Dropout(dropout)\n",
        "\n",
        "  def forward(self, x):\n",
        "    '''\n",
        "    Args:\n",
        "      x: input of shape (B, T, n_embd)\n",
        "    '''\n",
        "    B, T, C = x.shape\n",
        "\n",
        "    k = self.k(x) # (B, T, n_head)\n",
        "    q = self.q(x) # (B, T, n_head)\n",
        "    v = self.v(x) # (B, T, n_head)\n",
        "\n",
        "    w = q @ k.transpose(-2, -1) * C**-0.5 # (B, T, T)\n",
        "\n",
        "    # IMPORTANT: [:T, :T] cause the shape of x will be undefined when generation.\n",
        "    w = w.masked_fill(self.tril[:T, :T] == 0, float('-inf')) # (B, T, T)\n",
        "    w = F.softmax(w, dim=-1) # (B, T, T)\n",
        "    w = self.dropout(w)\n",
        "\n",
        "    out = w @ v # (B, T, n_head)\n",
        "    # print(f\"k {k.shape}, q: {q.shape}, v: {v.shape}, out: {out.shape}\")\n",
        "    return out\n",
        "\n",
        "class MultiHeadAttention(nn.Module):\n",
        "  def __init__(self, n_heads, head_size):\n",
        "    \"\"\"\n",
        "    Implementation of Masked multihead attention\n",
        "\n",
        "    NOTE: This is unusual implementation of MultiHeadAttention, normally we combine everything in single k, q, v.\n",
        "    IMPORTANT: We have to define all the SelfAttention blocks in here in order for them to produce different values\n",
        "    \"\"\"\n",
        "    super().__init__()\n",
        "    self.selfAttention = nn.ModuleList([SelfAttention(head_size=head_size) for _ in range(n_heads)])\n",
        "    self.projection = nn.Linear(n_embd, n_embd)\n",
        "    self.dropout = nn.Dropout(dropout)\n",
        "\n",
        "  def forward(self, x):\n",
        "    \"\"\"\n",
        "    Args:\n",
        "      x: inputs of shape (B, T, C)\n",
        "        B: batch_size\n",
        "        T: block_size\n",
        "        C: n_embd\n",
        "    \"\"\"\n",
        "    x = torch.cat([l(x) for l in self.selfAttention], dim=-1) # (B, T, head_size) * n_heads\n",
        "    # out = torch.cat(out, dim=-1) # (B, T, head_size * n_heads) -> (B, T, C)\n",
        "    x = self.dropout(self.projection(x))\n",
        "    return x\n",
        "\n",
        "\n",
        "class FeedForward(nn.Module):\n",
        "  \"\"\"\n",
        "  Performs feed forward after the MultiHeadAttention\n",
        "  \"\"\"\n",
        "  def __init__(self, n_embd):\n",
        "    super().__init__()\n",
        "    self.layers = nn.Sequential(\n",
        "        nn.Linear(n_embd, 4 * n_embd),\n",
        "        nn.ReLU(),\n",
        "        nn.Linear(4 * n_embd, n_embd),\n",
        "        nn.Dropout(dropout)\n",
        "    )\n",
        "\n",
        "  def forward(self, x):\n",
        "    return self.layers(x)\n",
        "\n",
        "class Block(nn.Module):\n",
        "  def __init__(self, n_embd, n_heads):\n",
        "    super().__init__()\n",
        "    head_size = n_embd // n_heads\n",
        "    self.attention = MultiHeadAttention(n_heads=n_heads, head_size=head_size)\n",
        "    self.ln1 = nn.LayerNorm(n_embd)\n",
        "    self.ln2 = nn.LayerNorm(n_embd)\n",
        "    self.ffw = FeedForward(n_embd)\n",
        "\n",
        "  def forward(self, x):\n",
        "    x = x + self.attention(self.ln1(x)) # (B, T, C)\n",
        "    x = x + self.ffw(self.ln2(x)) # (B, T, C)\n",
        "    return x\n",
        "\n",
        "\n",
        "class GPT(nn.Module):\n",
        "  def __init__(self):\n",
        "    super().__init__()\n",
        "    self.token_embedding_table = nn.Embedding(vocab_size, n_embd) # (vocab_size, C)\n",
        "    self.position_embedding = nn.Embedding(block_size, n_embd) # (T, C)\n",
        "    self.block = Block(n_embd, n_heads=n_heads)\n",
        "    self.ln = nn.LayerNorm(n_embd)\n",
        "    self.final = nn.Linear(n_embd, vocab_size)\n",
        "\n",
        "  def forward(self, x, targets=None):\n",
        "    '''\n",
        "    GPT forward pass\n",
        "    Args:\n",
        "      x: input of shape (B, T)\n",
        "      targets: targets of shape (B, T)\n",
        "    '''\n",
        "    B, T = x.shape\n",
        "    token_emb = self.token_embedding_table(x) # (B, T, C)\n",
        "    pos_emb = self.position_embedding(torch.arange(T, device=device)) # (T, C)\n",
        "    x = token_emb + pos_emb # (B, T, C)\n",
        "    attention = self.block(x) # (B, T, C)\n",
        "    out = self.ln(attention) # (B, T, C) ,.. [C is n_embd]\n",
        "    logits = self.final(out) # (B, T, vocab_size)\n",
        "\n",
        "    if targets == None:\n",
        "      loss = None\n",
        "    else:\n",
        "      B, T, C = logits.shape\n",
        "      logits = logits.view(B*T, C)\n",
        "      targets = targets.view(B*T)\n",
        "      loss = F.cross_entropy(logits, targets)\n",
        "    return logits, loss\n",
        "\n",
        "  def generate0(self, x, max_seq_len=100):\n",
        "    \"\"\"\n",
        "    For generating outputs from the model given a input x\n",
        "    Args:\n",
        "      x: input of shape (B, T).\n",
        "    \"\"\"\n",
        "    x = x.to(device)\n",
        "    for i in range(max_seq_len):\n",
        "      logits, loss = self(x)\n",
        "      logits = logits[:, -1, :] # (B, C)\n",
        "      logits = F.softmax(logits, dim=-1)\n",
        "      pred = torch.multinomial(logits, num_samples=1) # (B, 1)\n",
        "      x = torch.cat([x, pred], dim=-1)  # (B, ?)\n",
        "    return x\n",
        "\n",
        "  def generate(self, idx, max_new_tokens=10):\n",
        "        # idx is (B, T) array of indices in the current context\n",
        "        for _ in range(max_new_tokens):\n",
        "            # crop idx to the last block_size tokens\n",
        "            idx_cond = idx[:, -block_size:]\n",
        "            # get the predictions\n",
        "            logits, loss = self(idx_cond)\n",
        "            # focus only on the last time step\n",
        "            logits = logits[:, -1, :]  # becomes (B, C)\n",
        "            # apply softmax to get probabilities\n",
        "            probs = F.softmax(logits, dim=-1)  # (B, C)\n",
        "            # sample from the distribution\n",
        "            idx_next = torch.multinomial(probs, num_samples=1)  # (B, 1)\n",
        "            # append sampled index to the running sequence\n",
        "            idx = torch.cat((idx, idx_next), dim=1)  # (B, T+1)\n",
        "        return idx\n",
        "\n",
        "\n",
        "# torch.manual_seed(1345)\n",
        "# xb, yb = get_batch(\"train\")\n",
        "# m = GPT(n_heads=4)\n",
        "# m = m.to(device)\n",
        "# logits, loss = m(xb)\n",
        "\n",
        "# fg = torch.zeros((batch_size, block_size)).type(torch.long)"
      ],
      "metadata": {
        "id": "fJnpfKxzBJKz"
      },
      "execution_count": 25,
      "outputs": []
    },
    {
      "cell_type": "code",
      "source": [
        "from tqdm.auto import tqdm\n",
        "\n",
        "batch_size = 16  # how many independent sequences will we process in parallel?\n",
        "block_size = 32  # what is the maximum context length for predictions?\n",
        "max_iters = 50000\n",
        "eval_interval = 100\n",
        "learning_rate = 1e-3\n",
        "device = \"cuda\" if torch.cuda.is_available() else \"cpu\"\n",
        "eval_iters = 200\n",
        "n_embd = 64\n",
        "n_heads = 4\n",
        "n_layer = 4\n",
        "dropout = 0.0\n",
        "\n",
        "\n",
        "model = GPT()\n",
        "model = model.to(device)\n",
        "# model.load_state_dict(torch.load(\"nano_gpt.pt\"))\n",
        "optimizer = torch.optim.AdamW(params=model.parameters(), lr=1e-4)\n",
        "train_loss = []\n",
        "\n",
        "def train(model,\n",
        "          optimizer,\n",
        "          epochs):\n",
        "  model.train()\n",
        "\n",
        "  for epoch in tqdm(range(epochs)):\n",
        "    xb, yb = get_batch(\"train\")\n",
        "    xb, yb = xb.to(device), yb.to(device)\n",
        "\n",
        "    logits, loss = model(xb, yb)\n",
        "\n",
        "    optimizer.zero_grad()\n",
        "    loss.backward()\n",
        "    optimizer.step()\n",
        "\n",
        "    # stats\n",
        "    train_loss.append(loss.item())\n"
      ],
      "metadata": {
        "id": "Kc0gisT_4j0n"
      },
      "execution_count": 45,
      "outputs": []
    },
    {
      "cell_type": "code",
      "source": [
        "train(model=model,\n",
        "      optimizer=optimizer,\n",
        "      epochs=max_iters)"
      ],
      "metadata": {
        "colab": {
          "base_uri": "https://localhost:8080/",
          "height": 49,
          "referenced_widgets": [
            "b12b9319c0264b9dbc39003c7433be5a",
            "8b4b1943223644a798525dd8205351c4",
            "759b61aca0c24c8f926d7eb92f80b696",
            "0c5ddf98f5de459da0dbcdac900c2ddf",
            "18ab350549794f14b97f252ddc763797",
            "528c031831e84b5eba5df31e4ac76e83",
            "7adabb0fdad842e0937d8bb550fe280c",
            "d77d33fba7ce461fbdc69fd68faa5118",
            "e6b870d6c16540378ae4adf282320773",
            "ecc69acf8f7843638b84e162fb3208d7",
            "84c3685ba9a84d7ba3e06d5d116de01c"
          ]
        },
        "id": "MrTuax1qe7Nq",
        "outputId": "add3f7cf-56cc-4cac-b2a0-0b96c90e9421"
      },
      "execution_count": 50,
      "outputs": [
        {
          "output_type": "display_data",
          "data": {
            "text/plain": [
              "  0%|          | 0/5000 [00:00<?, ?it/s]"
            ],
            "application/vnd.jupyter.widget-view+json": {
              "version_major": 2,
              "version_minor": 0,
              "model_id": "b12b9319c0264b9dbc39003c7433be5a"
            }
          },
          "metadata": {}
        }
      ]
    },
    {
      "cell_type": "code",
      "source": [
        "import matplotlib.pyplot as plt\n",
        "plt.plot(range(len(train_loss)), train_loss)"
      ],
      "metadata": {
        "colab": {
          "base_uri": "https://localhost:8080/",
          "height": 447
        },
        "id": "exdIla1-4j47",
        "outputId": "c37cef82-6b8a-4f24-d239-b9f899780064"
      },
      "execution_count": 47,
      "outputs": [
        {
          "output_type": "execute_result",
          "data": {
            "text/plain": [
              "[<matplotlib.lines.Line2D at 0x7ea314598760>]"
            ]
          },
          "metadata": {},
          "execution_count": 47
        },
        {
          "output_type": "display_data",
          "data": {
            "text/plain": [
              "<Figure size 640x480 with 1 Axes>"
            ],
            "image/png": "[encoded data removed]"
          },
          "metadata": {}
        }
      ]
    },
    {
      "cell_type": "code",
      "source": [
        "torch.save(model.state_dict(), \"nano_gpt.pt\")"
      ],
      "metadata": {
        "id": "aLcNfbRL4j8Y"
      },
      "execution_count": 51,
      "outputs": []
    },
    {
      "cell_type": "code",
      "source": [
        "context = torch.zeros((1, 1), dtype=torch.long, device=device)\n",
        "print(decode(model.generate(context, max_new_tokens=2000)[0].tolist()))"
      ],
      "metadata": {
        "id": "6BL0kw6E4kAa",
        "colab": {
          "base_uri": "https://localhost:8080/"
        },
        "outputId": "f7da4bc8-d5cb-4268-d04c-0f724b29e132"
      },
      "execution_count": 52,
      "outputs": [
        {
          "output_type": "stream",
          "name": "stdout",
          "text": [
            "\n",
            "\n",
            "Rhard! As I\n",
            "Murgen, bour in saccure, I have my dost\n",
            "them\n",
            "And the spit claus, you birnes of mard haveate bowill it!\n",
            "\n",
            "VORSHEN:\n",
            "Santry fathink stoplers are Is ble:\n",
            "And I may you forthing and farseed onest:\n",
            "Than! Whan sholy. Withis the contence.\n",
            "\n",
            "ISAP:\n",
            "Dair, or dider Soct born.\n",
            "\n",
            "First in un, it 'Batch'd, his good the him cablood;\n",
            "er's, you! pake, faition re'er a perset\n",
            "So my my our all and the depins.\n",
            "\n",
            "JULING HENRY:\n",
            "Maded Eypare sepower'd do thy so hope of dares of is the night Garrow:\n",
            "Here if that do boy; Lod in death;\n",
            "So lova, for I never; felf; would I'll I hould and I does, if beat; swithnusy,\n",
            "And good why shafful ill'st him?.\n",
            "Comese vour enef, toither.\n",
            "I faturs dain: i' nows no and I.\n",
            "3 Proversusmenter, Which say:\n",
            "Ourd son lot woo it weath.\n",
            "\n",
            "Py bid so teath you my ong.\n",
            "\n",
            "ROMIO:\n",
            "Why adgan, To-mut gik?\n",
            "A good me, hear, more'd.\n",
            "\n",
            "ROMINA:\n",
            "Which you crom cons the diegieve sre do is of in fean,\n",
            "Letting in OxI'll am chit a great and knows there it sousmil! Will parly hass:\n",
            "My ence aburratch, hou?\n",
            "\n",
            "For canstard by sir:\n",
            "What fif his in an my eir so shand tenemage tooo you ever thee, thy some their tue, as word ret but,\n",
            "How you sher cousech reyet year disbest not eight, Yead all'll sambeem forto friesel,\n",
            "No, farly breass?\n",
            "\n",
            "ANTOLADY:\n",
            "Twake pautters by darn:\n",
            "He clore so beliess, you that that seen.\n",
            "\n",
            "MENENIO:\n",
            "Straity; anst no him:\n",
            "O, I'll, and lover will.\n",
            "\n",
            "MERTHAS BOLIO:\n",
            "Our that Servers in.\n",
            "\n",
            "QUEEN EDY:\n",
            "Ther yound not remaare Letter's where,\n",
            "And, of doost:\n",
            "Elore mottar capeal, as not a coundint:\n",
            "And bothsu part! Lettencrom sher fitestrong,\n",
            "The seechard bioke? York. How doing!\n",
            "-iStill, hows home indses agaid;\n",
            "Bis scan\n",
            "But in'd spale.\n",
            "\n",
            "GRECHERDUKE, shall and was trea?\n",
            "The here thy morand prern a mantessilind,\n",
            "With I Bised oyars:\n",
            "'Tile.\n",
            "\n",
            "COMEOW MILLA:\n",
            "But presh ope surp twid with the santity lord, may ofe sold that for fly loplishe\n",
            "And and maife thy not it un 'two lod.\n",
            "\n",
            "QUEENIGHAM:\n",
            "How slaul so; Jeastil aman Conourd think heavengue's we connot you.\n",
            "\n",
            "DULEO:\n",
            "And in it.\n",
            "And take, What\n"
          ]
        }
      ]
    },
    {
      "cell_type": "code",
      "source": [],
      "metadata": {
        "id": "U6YlW4lEBJSO"
      },
      "execution_count": null,
      "outputs": []
    },
    {
      "cell_type": "markdown",
      "source": [
        "## Demo of updated ig self attention :)."
      ],
      "metadata": {
        "id": "Kp9f4HHxjTDq"
      }
    },
    {
      "cell_type": "code",
      "source": [
        "t = torch.randn((4, 5))\n",
        "att = torch.tril(torch.ones(6, 6))\n",
        "print(att)\n",
        "print(t)\n",
        "B, T = t.shape\n",
        "t.masked_fill(att[:B, :T] == 0, float(\"-inf\"))"
      ],
      "metadata": {
        "id": "PTF7uyBDBJWG",
        "colab": {
          "base_uri": "https://localhost:8080/"
        },
        "outputId": "559a7777-a470-4fe0-e4a8-691d617d592e"
      },
      "execution_count": 68,
      "outputs": [
        {
          "output_type": "stream",
          "name": "stdout",
          "text": [
            "tensor([[1., 0., 0., 0., 0., 0.],\n",
            "        [1., 1., 0., 0., 0., 0.],\n",
            "        [1., 1., 1., 0., 0., 0.],\n",
            "        [1., 1., 1., 1., 0., 0.],\n",
            "        [1., 1., 1., 1., 1., 0.],\n",
            "        [1., 1., 1., 1., 1., 1.]])\n",
            "tensor([[-0.0935, -0.5471, -0.3707, -0.0740, -0.1041],\n",
            "        [ 0.2176,  0.4699,  0.7482, -1.3293, -0.8264],\n",
            "        [-0.7590,  0.1958,  0.9548, -1.6906,  0.3653],\n",
            "        [-0.6173,  0.2967, -0.4332,  0.9150, -1.9382]])\n"
          ]
        },
        {
          "output_type": "execute_result",
          "data": {
            "text/plain": [
              "tensor([[-0.0935,    -inf,    -inf,    -inf,    -inf],\n",
              "        [ 0.2176,  0.4699,    -inf,    -inf,    -inf],\n",
              "        [-0.7590,  0.1958,  0.9548,    -inf,    -inf],\n",
              "        [-0.6173,  0.2967, -0.4332,  0.9150,    -inf]])"
            ]
          },
          "metadata": {},
          "execution_count": 68
        }
      ]
    },
    {
      "cell_type": "code",
      "source": [],
      "metadata": {
        "id": "cBMgOanLjOVc"
      },
      "execution_count": null,
      "outputs": []
    }
  ]
}