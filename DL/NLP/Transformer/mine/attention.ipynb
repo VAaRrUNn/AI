{
 "cells": [
  {
   "cell_type": "code",
   "execution_count": 3,
   "metadata": {},
   "outputs": [],
   "source": [
    "import torch"
   ]
  },
  {
   "cell_type": "markdown",
   "metadata": {},
   "source": [
    "## Self-attention"
   ]
  },
  {
   "cell_type": "code",
   "execution_count": 4,
   "metadata": {},
   "outputs": [
    {
     "data": {
      "text/plain": [
       "torch.Size([4, 10])"
      ]
     },
     "execution_count": 4,
     "metadata": {},
     "output_type": "execute_result"
    }
   ],
   "source": [
    "MAX_SEQ_LEN = 4\n",
    "N_EMBD = 10\n",
    "k, q, v = torch.randn(MAX_SEQ_LEN, N_EMBD), torch.randn(MAX_SEQ_LEN, N_EMBD), torch.randn(MAX_SEQ_LEN, N_EMBD)\n",
    "\n",
    "attention = torch.matmul(q, k.T)/ N_EMBD\n",
    "torch.matmul(attention, v).shape"
   ]
  },
  {
   "cell_type": "markdown",
   "metadata": {},
   "source": [
    "## Multi-head attention"
   ]
  },
  {
   "cell_type": "code",
   "execution_count": null,
   "metadata": {},
   "outputs": [],
   "source": []
  },
  {
   "cell_type": "code",
   "execution_count": 19,
   "metadata": {},
   "outputs": [
    {
     "ename": "SyntaxError",
     "evalue": "invalid syntax (375071709.py, line 11)",
     "output_type": "error",
     "traceback": [
      "\u001b[1;36m  Cell \u001b[1;32mIn[19], line 11\u001b[1;36m\u001b[0m\n\u001b[1;33m    attention = torch.matmul(q, k.transpose(-2, -1)) /\u001b[0m\n\u001b[1;37m                                                       ^\u001b[0m\n\u001b[1;31mSyntaxError\u001b[0m\u001b[1;31m:\u001b[0m invalid syntax\n"
     ]
    }
   ],
   "source": [
    "import math\n",
    "MAX_SEQ_LEN = 4\n",
    "N_EMBD = 512\n",
    "BATCH_SIZE = 2\n",
    "N_HEADS = 8\n",
    "HEADS_DIM = N_EMBD // N_HEADS\n",
    "qkv = torch.randn((BATCH_SIZE, MAX_SEQ_LEN, N_HEADS, 3 * HEADS_DIM))\n",
    "qkv = qkv.reshape(BATCH_SIZE, N_HEADS, MAX_SEQ_LEN, 3 * HEADS_DIM)\n",
    "q, k, v = qkv.chunk(3, dim = -1)\n",
    "print(qkv.shape, q.shape)\n",
    "attention = torch.matmul(q, k.transpose(-2, -1)) / math.sqrt()"
   ]
  },
  {
   "cell_type": "code",
   "execution_count": null,
   "metadata": {},
   "outputs": [],
   "source": []
  },
  {
   "cell_type": "code",
   "execution_count": null,
   "metadata": {},
   "outputs": [],
   "source": []
  }
 ],
 "metadata": {
  "kernelspec": {
   "display_name": "ds",
   "language": "python",
   "name": "python3"
  },
  "language_info": {
   "codemirror_mode": {
    "name": "ipython",
    "version": 3
   },
   "file_extension": ".py",
   "mimetype": "text/x-python",
   "name": "python",
   "nbconvert_exporter": "python",
   "pygments_lexer": "ipython3",
   "version": "3.10.11"
  },
  "orig_nbformat": 4
 },
 "nbformat": 4,
 "nbformat_minor": 2
}
