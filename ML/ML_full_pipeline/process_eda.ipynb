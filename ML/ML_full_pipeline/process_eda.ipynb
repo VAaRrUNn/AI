{
 "cells": [
  {
   "cell_type": "code",
   "execution_count": 2,
   "metadata": {
    "vscode": {
     "languageId": "plaintext"
    }
   },
   "outputs": [],
   "source": [
    "collect the data\n",
    "on the whole dataset (ig it's better):\n",
    "\thandle missing values\n",
    "\tfeatures selection \n",
    "\tfeatures transformation (and all this kinda stuff)\n",
    "\tcorrelation etc\n",
    "\n",
    "on the train dataset :\n",
    "\toutlier detection \n",
    "\tnormalization (save it for later :) )\n",
    "\tPCA (and other things like this)\n",
    "\n",
    "\n",
    "Specific steps in full process.\n",
    "1. first is to analyse the dataset (what it's all about)\n",
    "2. Now You need to handle the missing values\n",
    "3. After that go on for identifying and handling the outliers\n"
   ]
  },
  {
   "cell_type": "code",
   "execution_count": 4,
   "metadata": {},
   "outputs": [],
   "source": [
    "STRUCTURE TO WRITE...\n",
    "\n",
    "MAIN HEADING (MAIN TOPIC):\n",
    "    \n",
    "    SUB-HEADNIG (DIFFERENT WAYS TO DO IT):\n",
    "        \n",
    "        EACH METHOD EXPLAINED WITH IT'S RESPECTIVE CODE SNIPPIT\n",
    "        \n",
    "        "
   ]
  },
  {
   "cell_type": "code",
   "execution_count": null,
   "metadata": {},
   "outputs": [],
   "source": [
    "For missing values:\n",
    "\n",
    "    Delete the row/column\n",
    "\n",
    "    Replacing with something else:\n",
    "\n",
    "        Arbitrary value(like 0 or something)\n",
    "\n",
    "        Mean, Median, Mode\n",
    "\n",
    "        Previous, Next, etc\n",
    "\n",
    "        -------------------------------------------------------------------------------\n",
    "        BELOW IS ONLY FOR ONLY CATEGORICAL/OBJECT COLUMNS(I.E., INT/FLOAT ETC.)\n",
    "        Interpolation(finding the value using some kinda curve/line):\n",
    "            Linear:\n",
    "                df.interpolate(method=\"linear\")\n",
    "\n",
    "                eg -> 1, 5, 2, NaN\n",
    "                find y = mx + c for near points(5, 2)\n",
    "                take y's as (5, 2) and x's as (1, 2)\n",
    "                if x are not defined you can start from 0 or 1\n",
    "                Now you can estimate value of NaN using y = mx+c for x = 3\n",
    "\n",
    "            Polynomial:\n",
    "                df.interpolate(method=\"polynomial\", order=2)\n",
    "\n",
    "                you fit a kth degree polynomial instead of a line, you specify the k here\n",
    "\n",
    "        -------------------------------------------------------------------------------\n",
    "        FOR CATEGORICAL COLUMNS\n",
    "        Drop rows:\n",
    "            df.dropna(subset=['column_name'], inplace=True)\n",
    "\n",
    "        Fill with constant values:\n",
    "            df['column_name'].fillna('Unknown', inplace=True)\n",
    "\n",
    "        Fill with most frequent value:\n",
    "            most_frequent_value = df['column_name'].mode()[0]\n",
    "            df['column_name'].fillna(most_frequent_value, inplace=True)\n",
    "\n",
    "        Forward/backward fill:\n",
    "            df['column_name'].fillna(\n",
    "                method='ffill', inplace=True)  # Forward fill\n",
    "            df['column_name'].fillna(\n",
    "                method='bfill', inplace=True)  # Backward fill\n",
    "\n",
    "        Clustering algorithms like KNN, K-means etc to group the missing values into clustes.\n",
    "        take related columns / or the one's you think are the good, then just apply these algorithms\n",
    "        and make different clusters then lable the missing values accordingly.\n",
    "        ACCORDING TO ME WE SHOULD APPLY THESE CLUSTERING ALGO'S IF THE NUMBER OF MISSING VALUES IS REALLY BIG.\n",
    "\n",
    "        SKLEARN IMPUTERS(Only for Numerical data):\n",
    "            sklearn.impute.SimpleImputer():\n",
    "                It is a Univariate Imputer meaning It will take only one feature into account\n",
    "\n",
    "            sklearn.impute.IterativeImputer():\n",
    "                It build a regression model, you can define estimator etc.\n",
    "                For rows which have the row values not nun there are used for training and the nan values column is\n",
    "                what we wanna predict.\n",
    "\n",
    "            sklearn.impute.KNNImputer():\n",
    "                say you define K = 2, IT will look for 2 nearest rows using the other columns and then take their respective\n",
    "                prediction values and mean them.:)\n"
   ]
  },
  {
   "cell_type": "code",
   "execution_count": null,
   "metadata": {},
   "outputs": [],
   "source": [
    "Outlier Detection:\n",
    "\n",
    "An Outlier is a data point in a dataset that is distant from all the other observations. A\n",
    "data point that lies outside the overall distribution of the dataset.\n",
    "\n",
    "\n",
    "Reasons for outlier:\n",
    "    1. Variability in the dataset\n",
    "    2. An experimental measurement error \n",
    "\n",
    "Impacts of having an Outlier:\n",
    "    1. Problems during statistical analysis\n",
    "    2. It may cause a significant impact on the mean and the standard deviation\n",
    "\n",
    "\n",
    "Visualization Techiniques:\n",
    "    1. Using scatter plots\n",
    "    2. Box plot\n",
    "    3. using z-score \n",
    "    4. Usin the IOR range \n",
    "\n",
    "Numerical Techiniques:\n",
    "    Z-score:\n",
    "        z-score of a value x in a distribution(whatever distribution it is) is equal to the value of that x \n",
    "        in it's respective standard normal distribution.\n",
    "        \n",
    "    IQR:\n",
    "    "
   ]
  },
  {
   "cell_type": "code",
   "execution_count": null,
   "metadata": {},
   "outputs": [],
   "source": [
    "For transforming categorical values:\n",
    "    Nominal : (No order just some bunch of values)\n",
    "        OneHotEncoding :\n",
    "            "
   ]
  },
  {
   "cell_type": "code",
   "execution_count": null,
   "metadata": {},
   "outputs": [],
   "source": [
    "feature selectoin -> https://www.youtube.com/watch?v=uMlU2JaiOd8&list=PLZoTAELRMXVPgjwJ8VyRoqmfNs2CJwhVH\n",
    "feature engineering -> https://www.youtube.com/watch?v=6WDFfaYtN6s&list=PLZoTAELRMXVPwYGE2PXD3x0bfKnR0cJjN"
   ]
  },
  {
   "cell_type": "code",
   "execution_count": null,
   "metadata": {},
   "outputs": [],
   "source": []
  },
  {
   "cell_type": "code",
   "execution_count": null,
   "metadata": {},
   "outputs": [],
   "source": []
  },
  {
   "cell_type": "code",
   "execution_count": null,
   "metadata": {},
   "outputs": [],
   "source": []
  },
  {
   "cell_type": "code",
   "execution_count": null,
   "metadata": {},
   "outputs": [],
   "source": []
  }
 ],
 "metadata": {
  "kernelspec": {
   "display_name": "Python 3 (Spyder)",
   "language": "python3",
   "name": "python3"
  },
  "language_info": {
   "codemirror_mode": {
    "name": "ipython",
    "version": 3
   },
   "file_extension": ".py",
   "mimetype": "text/x-python",
   "name": "python",
   "nbconvert_exporter": "python",
   "pygments_lexer": "ipython3",
   "version": "3.10.11"
  }
 },
 "nbformat": 4,
 "nbformat_minor": 4
}
