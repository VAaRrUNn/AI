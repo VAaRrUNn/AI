{
 "cells": [
  {
   "cell_type": "code",
   "execution_count": null,
   "metadata": {
    "vscode": {
     "languageId": "plaintext"
    }
   },
   "outputs": [],
   "source": [
    "collect the data\n",
    "on the whole dataset (ig it's better):\n",
    "\thandle missing values\n",
    "\tfeatures selection \n",
    "\tfeatures transformation (and all this kinda stuff)\n",
    "\tcorrelation etc\n",
    "\n",
    "on the train dataset :\n",
    "\toutlier detection \n",
    "\tnormalization (save it for later :) )\n",
    "\tPCA (and other things like this)"
   ]
  },
  {
   "cell_type": "code",
   "execution_count": null,
   "metadata": {},
   "outputs": [],
   "source": [
    "For missing values:\n",
    "    Delete the row/column\n",
    "    \n",
    "    Replacing with something else:\n",
    "        Arbitrary value (like 0 or something)\n",
    "        Mean, Median, Mode\n",
    "        Previous, Next, etc\n",
    "        \n",
    "        BELOW IS ONLY FOR NON CATEGORICAL/OBJECT COLUMNS (I.E., INT/FLOAT ETC.)\n",
    "        Interpolation (finding the value using some kinda curve/line):\n",
    "            Linear:\n",
    "                df.interpolate(method=\"linear\")\n",
    "                \n",
    "                eg -> 1, 5, 2, NaN\n",
    "                find y = mx + c for near points (5, 2)\n",
    "                take y's as (5, 2) and x's as (1, 2)\n",
    "                if x are not defined you can start from 0 or 1\n",
    "                Now you can estimate value of NaN using y=mx+c for x=3\n",
    "                \n",
    "            Polynomial :\n",
    "                df.interpolate(method=\"polynomial\", order=2)\n",
    "                \n",
    "                you fit a kth degree polynomial instead of a line, you specify the k here\n",
    "            \n",
    "            \n",
    "            FOR CATEGORICAL COLUMNS\n",
    "            Drop rows:\n",
    "                df.dropna(subset=['column_name'], inplace=True)\n",
    "            \n",
    "            Fill with constant values:\n",
    "                df['column_name'].fillna('Unknown', inplace=True)\n",
    "                \n",
    "            Fill with most frequent value:\n",
    "                most_frequent_value = df['column_name'].mode()[0]\n",
    "                df['column_name'].fillna(most_frequent_value, inplace=True)\n",
    "            \n",
    "            Forward/backward fill:\n",
    "                df['column_name'].fillna(method='ffill', inplace=True)  # Forward fill\n",
    "                df['column_name'].fillna(method='bfill', inplace=True)  # Backward fill\n",
    "                \n",
    "            Clustering algorithms like KNN, K-means etc to group the missing values into clustes.\n",
    "            take related columns/ or the one's you think are the good, then just apply these algorithms\n",
    "            and make different clusters then lable the missing values accordingly.\n",
    "            ACCORDING TO ME WE SHOULD APPLY THESE CLUSTERING ALGO'S IF THE NUMBER OF MISSING VALUES IS REALLY BIG.\n",
    "\n",
    "\n",
    "\n",
    "            \n",
    "            "
   ]
  },
  {
   "cell_type": "code",
   "execution_count": null,
   "metadata": {},
   "outputs": [],
   "source": []
  },
  {
   "cell_type": "code",
   "execution_count": null,
   "metadata": {},
   "outputs": [],
   "source": []
  },
  {
   "cell_type": "code",
   "execution_count": null,
   "metadata": {},
   "outputs": [],
   "source": []
  },
  {
   "cell_type": "code",
   "execution_count": null,
   "metadata": {},
   "outputs": [],
   "source": []
  },
  {
   "cell_type": "code",
   "execution_count": null,
   "metadata": {},
   "outputs": [],
   "source": []
  },
  {
   "cell_type": "code",
   "execution_count": null,
   "metadata": {},
   "outputs": [],
   "source": []
  }
 ],
 "metadata": {
  "kernelspec": {
   "display_name": "Python 3 (Spyder)",
   "language": "python3",
   "name": "python3"
  },
  "language_info": {
   "codemirror_mode": {
    "name": "ipython",
    "version": 3
   },
   "file_extension": ".py",
   "mimetype": "text/x-python",
   "name": "python",
   "nbconvert_exporter": "python",
   "pygments_lexer": "ipython3",
   "version": "3.10.11"
  }
 },
 "nbformat": 4,
 "nbformat_minor": 4
}
